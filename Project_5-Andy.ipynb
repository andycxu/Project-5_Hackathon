{
 "cells": [
  {
   "cell_type": "markdown",
   "id": "160181ff-ce56-4431-ba3b-7f49dea029ec",
   "metadata": {},
   "source": [
    "## DSI - Project 5 - Andy"
   ]
  },
  {
   "cell_type": "markdown",
   "id": "2c24e4cf-55bc-4aab-867f-64bf18938aaf",
   "metadata": {},
   "source": [
    "### Dataset"
   ]
  },
  {
   "cell_type": "markdown",
   "id": "227ad47f-81d9-4140-9350-6a52769c4c7d",
   "metadata": {},
   "source": [
    "https://www.kaggle.com/datasets/abeperez/historical-plane-crash-data"
   ]
  },
  {
   "cell_type": "markdown",
   "id": "a5b5f4fb-b9aa-4fc4-9c98-b2a9025bf518",
   "metadata": {},
   "source": [
    "### Problem Statement"
   ]
  },
  {
   "cell_type": "markdown",
   "id": "cfd815eb-d770-4e46-bbb6-2a7dba8cb166",
   "metadata": {},
   "source": [
    "As an airplane fan, it is both my personal and public attention about the air travel safety. Although air travel is one of the safest transportation nowadays, the risk still exist, especially the high injury and mortality rate when single accident occurred. In order to help publics to understand more about the plane crashes, this study utilizes the historical airplane crash records and explores the major causes of airplane crashes like occurring time, occurring flight phase, aircraft type, operator, and crash site."
   ]
  },
  {
   "cell_type": "markdown",
   "id": "640b190d-9037-480c-8752-ada374b19d70",
   "metadata": {},
   "source": [
    "### 1. Load the Data"
   ]
  },
  {
   "cell_type": "code",
   "execution_count": 192,
   "id": "c129a7df-f797-4842-9b2f-6c505c8340ce",
   "metadata": {
    "tags": []
   },
   "outputs": [],
   "source": [
    "import pandas as pd\n",
    "import matplotlib.pyplot as plt\n",
    "\n",
    "from sklearn.model_selection import train_test_split, GridSearchCV\n",
    "from sklearn.linear_model import LogisticRegression\n",
    "from sklearn.impute import SimpleImputer\n",
    "from sklearn.preprocessing import OneHotEncoder\n",
    "from sklearn.compose import make_column_transformer\n",
    "from sklearn.preprocessing import StandardScaler\n",
    "from sklearn.metrics import ConfusionMatrixDisplay\n",
    "from sklearn.neighbors import KNeighborsClassifier\n",
    "from sklearn.ensemble import  RandomForestClassifier\n",
    "\n",
    "from imblearn.pipeline import make_pipeline\n",
    "from imblearn.over_sampling import RandomOverSampler"
   ]
  },
  {
   "cell_type": "code",
   "execution_count": 193,
   "id": "2db92e7a-df90-41a4-a5b6-9d1a8e9ca0d3",
   "metadata": {},
   "outputs": [],
   "source": [
    "df_crash = pd.read_csv('data/plane_crash_data.csv', encoding= 'unicode_escape')"
   ]
  },
  {
   "cell_type": "markdown",
   "id": "9e13f5f3-e909-4193-ac5f-4e95c48502e3",
   "metadata": {},
   "source": [
    "### 2. Data Cleaning"
   ]
  },
  {
   "cell_type": "code",
   "execution_count": 194,
   "id": "4e8cbe8c-8188-4bd0-aa81-5b87441f34f1",
   "metadata": {},
   "outputs": [
    {
     "data": {
      "text/plain": [
       "(28440, 24)"
      ]
     },
     "execution_count": 194,
     "metadata": {},
     "output_type": "execute_result"
    }
   ],
   "source": [
    "df_crash.shape"
   ]
  },
  {
   "cell_type": "code",
   "execution_count": 195,
   "id": "4129817f-2f88-4e7a-a5f5-b6fb7cf0dba9",
   "metadata": {},
   "outputs": [
    {
     "data": {
      "text/plain": [
       "Index(['Date', 'Time', 'Aircraft', 'Operator', 'Registration', 'Flight phase',\n",
       "       'Flight type', 'Survivors', 'Crash site', 'Schedule', 'MSN', 'YOM',\n",
       "       'Flight no.', 'Crash location', 'Country', 'Region', 'Crew on board',\n",
       "       'Crew fatalities', 'Pax on board', 'PAX fatalities', 'Other fatalities',\n",
       "       'Total fatalities', 'Circumstances', 'Crash cause'],\n",
       "      dtype='object')"
      ]
     },
     "execution_count": 195,
     "metadata": {},
     "output_type": "execute_result"
    }
   ],
   "source": [
    "df_crash.columns"
   ]
  },
  {
   "cell_type": "code",
   "execution_count": 196,
   "id": "453580e5-d920-4ea7-a442-208fd3217f2c",
   "metadata": {},
   "outputs": [
    {
     "data": {
      "text/html": [
       "<div>\n",
       "<style scoped>\n",
       "    .dataframe tbody tr th:only-of-type {\n",
       "        vertical-align: middle;\n",
       "    }\n",
       "\n",
       "    .dataframe tbody tr th {\n",
       "        vertical-align: top;\n",
       "    }\n",
       "\n",
       "    .dataframe thead th {\n",
       "        text-align: right;\n",
       "    }\n",
       "</style>\n",
       "<table border=\"1\" class=\"dataframe\">\n",
       "  <thead>\n",
       "    <tr style=\"text-align: right;\">\n",
       "      <th></th>\n",
       "      <th>Date</th>\n",
       "      <th>Time</th>\n",
       "      <th>Aircraft</th>\n",
       "      <th>Operator</th>\n",
       "      <th>Registration</th>\n",
       "      <th>Flight phase</th>\n",
       "      <th>Flight type</th>\n",
       "      <th>Survivors</th>\n",
       "      <th>Crash site</th>\n",
       "      <th>Schedule</th>\n",
       "      <th>...</th>\n",
       "      <th>Country</th>\n",
       "      <th>Region</th>\n",
       "      <th>Crew on board</th>\n",
       "      <th>Crew fatalities</th>\n",
       "      <th>Pax on board</th>\n",
       "      <th>PAX fatalities</th>\n",
       "      <th>Other fatalities</th>\n",
       "      <th>Total fatalities</th>\n",
       "      <th>Circumstances</th>\n",
       "      <th>Crash cause</th>\n",
       "    </tr>\n",
       "  </thead>\n",
       "  <tbody>\n",
       "    <tr>\n",
       "      <th>0</th>\n",
       "      <td>1918-05-02</td>\n",
       "      <td>NaN</td>\n",
       "      <td>De Havilland DH.4</td>\n",
       "      <td>United States Signal Corps - USSC</td>\n",
       "      <td>AS-32084</td>\n",
       "      <td>Takeoff (climb)</td>\n",
       "      <td>Test</td>\n",
       "      <td>No</td>\n",
       "      <td>Airport (less than 10 km from airport)</td>\n",
       "      <td>Dayton - Dayton</td>\n",
       "      <td>...</td>\n",
       "      <td>United States of America</td>\n",
       "      <td>North America</td>\n",
       "      <td>2.0</td>\n",
       "      <td>2.0</td>\n",
       "      <td>0.0</td>\n",
       "      <td>0.0</td>\n",
       "      <td>0.0</td>\n",
       "      <td>2</td>\n",
       "      <td>The single engine airplane departed Dayton-McC...</td>\n",
       "      <td>Technical failure</td>\n",
       "    </tr>\n",
       "    <tr>\n",
       "      <th>1</th>\n",
       "      <td>1918-06-08</td>\n",
       "      <td>NaN</td>\n",
       "      <td>Handley Page V/1500</td>\n",
       "      <td>Handley Page Aircraft Company Ltd</td>\n",
       "      <td>E4104</td>\n",
       "      <td>Takeoff (climb)</td>\n",
       "      <td>Test</td>\n",
       "      <td>Yes</td>\n",
       "      <td>Airport (less than 10 km from airport)</td>\n",
       "      <td>Cricklewood - Cricklewood</td>\n",
       "      <td>...</td>\n",
       "      <td>United Kingdom</td>\n",
       "      <td>Europe</td>\n",
       "      <td>6.0</td>\n",
       "      <td>5.0</td>\n",
       "      <td>0.0</td>\n",
       "      <td>0.0</td>\n",
       "      <td>0.0</td>\n",
       "      <td>5</td>\n",
       "      <td>Assembled at Cricklewood Airfield in May 1918,...</td>\n",
       "      <td>Technical failure</td>\n",
       "    </tr>\n",
       "  </tbody>\n",
       "</table>\n",
       "<p>2 rows × 24 columns</p>\n",
       "</div>"
      ],
      "text/plain": [
       "         Date Time             Aircraft                           Operator  \\\n",
       "0  1918-05-02  NaN    De Havilland DH.4  United States Signal Corps - USSC   \n",
       "1  1918-06-08  NaN  Handley Page V/1500  Handley Page Aircraft Company Ltd   \n",
       "\n",
       "  Registration     Flight phase Flight type Survivors  \\\n",
       "0     AS-32084  Takeoff (climb)        Test        No   \n",
       "1        E4104  Takeoff (climb)        Test       Yes   \n",
       "\n",
       "                               Crash site                   Schedule  ...  \\\n",
       "0  Airport (less than 10 km from airport)            Dayton - Dayton  ...   \n",
       "1  Airport (less than 10 km from airport)  Cricklewood - Cricklewood  ...   \n",
       "\n",
       "                    Country         Region Crew on board Crew fatalities  \\\n",
       "0  United States of America  North America           2.0             2.0   \n",
       "1            United Kingdom         Europe           6.0             5.0   \n",
       "\n",
       "  Pax on board PAX fatalities  Other fatalities  Total fatalities  \\\n",
       "0          0.0            0.0               0.0                 2   \n",
       "1          0.0            0.0               0.0                 5   \n",
       "\n",
       "                                       Circumstances        Crash cause  \n",
       "0  The single engine airplane departed Dayton-McC...  Technical failure  \n",
       "1  Assembled at Cricklewood Airfield in May 1918,...  Technical failure  \n",
       "\n",
       "[2 rows x 24 columns]"
      ]
     },
     "execution_count": 196,
     "metadata": {},
     "output_type": "execute_result"
    }
   ],
   "source": [
    "df_crash.head(2)"
   ]
  },
  {
   "cell_type": "code",
   "execution_count": 197,
   "id": "33339bc3-57dd-4ece-9438-3a04c8454a26",
   "metadata": {},
   "outputs": [
    {
     "data": {
      "text/plain": [
       "Date                    0\n",
       "Time                14546\n",
       "Aircraft                1\n",
       "Operator                0\n",
       "Registration          813\n",
       "Flight phase          639\n",
       "Flight type            57\n",
       "Survivors            1304\n",
       "Crash site            382\n",
       "Schedule             8959\n",
       "MSN                  4171\n",
       "YOM                  5321\n",
       "Flight no.          25602\n",
       "Crash location         13\n",
       "Country                 1\n",
       "Region                  1\n",
       "Crew on board          24\n",
       "Crew fatalities         1\n",
       "Pax on board           54\n",
       "PAX fatalities          1\n",
       "Other fatalities       10\n",
       "Total fatalities        0\n",
       "Circumstances          25\n",
       "Crash cause             0\n",
       "dtype: int64"
      ]
     },
     "execution_count": 197,
     "metadata": {},
     "output_type": "execute_result"
    }
   ],
   "source": [
    "df_crash.isnull().sum()"
   ]
  },
  {
   "cell_type": "code",
   "execution_count": 198,
   "id": "a295cb32-4865-4a32-abc6-88b9159fe3a2",
   "metadata": {
    "tags": []
   },
   "outputs": [],
   "source": [
    "# Remove columns that are either with too many missing values or not part of the study\n",
    "df_crash = df_crash.drop(columns = ['Time', 'Registration', 'Flight no.', 'Schedule', 'MSN', 'YOM', 'Crew on board', 'Crew fatalities', \n",
    "                                    'Pax on board', 'PAX fatalities', 'Other fatalities'])"
   ]
  },
  {
   "cell_type": "code",
   "execution_count": 199,
   "id": "3ee0d06c-9d25-4947-89ca-121bd06b9af4",
   "metadata": {},
   "outputs": [
    {
     "data": {
      "text/plain": [
       "Date                   0\n",
       "Aircraft               1\n",
       "Operator               0\n",
       "Flight phase         639\n",
       "Flight type           57\n",
       "Survivors           1304\n",
       "Crash site           382\n",
       "Crash location        13\n",
       "Country                1\n",
       "Region                 1\n",
       "Total fatalities       0\n",
       "Circumstances         25\n",
       "Crash cause            0\n",
       "dtype: int64"
      ]
     },
     "execution_count": 199,
     "metadata": {},
     "output_type": "execute_result"
    }
   ],
   "source": [
    "df_crash.isna().sum()"
   ]
  },
  {
   "cell_type": "code",
   "execution_count": 200,
   "id": "082415a8-5439-4ba8-8be1-f622617d29b7",
   "metadata": {},
   "outputs": [
    {
     "name": "stdout",
     "output_type": "stream",
     "text": [
      "<class 'pandas.core.frame.DataFrame'>\n",
      "RangeIndex: 28440 entries, 0 to 28439\n",
      "Data columns (total 13 columns):\n",
      " #   Column            Non-Null Count  Dtype \n",
      "---  ------            --------------  ----- \n",
      " 0   Date              28440 non-null  object\n",
      " 1   Aircraft          28439 non-null  object\n",
      " 2   Operator          28440 non-null  object\n",
      " 3   Flight phase      27801 non-null  object\n",
      " 4   Flight type       28383 non-null  object\n",
      " 5   Survivors         27136 non-null  object\n",
      " 6   Crash site        28058 non-null  object\n",
      " 7   Crash location    28427 non-null  object\n",
      " 8   Country           28439 non-null  object\n",
      " 9   Region            28439 non-null  object\n",
      " 10  Total fatalities  28440 non-null  int64 \n",
      " 11  Circumstances     28415 non-null  object\n",
      " 12  Crash cause       28440 non-null  object\n",
      "dtypes: int64(1), object(12)\n",
      "memory usage: 2.8+ MB\n"
     ]
    }
   ],
   "source": [
    "df_crash.info()"
   ]
  },
  {
   "cell_type": "markdown",
   "id": "e71b037c-5580-4b35-a3e4-185be64e4ae9",
   "metadata": {},
   "source": [
    "Survivors will the y in later model. so I removed all missing values in this column."
   ]
  },
  {
   "cell_type": "code",
   "execution_count": 201,
   "id": "534c8008-5e0c-4188-aa0a-d3dedee5945c",
   "metadata": {
    "tags": []
   },
   "outputs": [],
   "source": [
    "df_crash = df_crash.dropna(subset = ['Survivors'])"
   ]
  },
  {
   "cell_type": "code",
   "execution_count": 202,
   "id": "f8b3a7fb-0788-4aa3-b350-cd60b484598a",
   "metadata": {},
   "outputs": [
    {
     "data": {
      "text/html": [
       "<div>\n",
       "<style scoped>\n",
       "    .dataframe tbody tr th:only-of-type {\n",
       "        vertical-align: middle;\n",
       "    }\n",
       "\n",
       "    .dataframe tbody tr th {\n",
       "        vertical-align: top;\n",
       "    }\n",
       "\n",
       "    .dataframe thead th {\n",
       "        text-align: right;\n",
       "    }\n",
       "</style>\n",
       "<table border=\"1\" class=\"dataframe\">\n",
       "  <thead>\n",
       "    <tr style=\"text-align: right;\">\n",
       "      <th></th>\n",
       "      <th>Date</th>\n",
       "      <th>Aircraft</th>\n",
       "      <th>Operator</th>\n",
       "      <th>Flight phase</th>\n",
       "      <th>Flight type</th>\n",
       "      <th>Crash site</th>\n",
       "      <th>Crash location</th>\n",
       "      <th>Country</th>\n",
       "      <th>Region</th>\n",
       "      <th>Total fatalities</th>\n",
       "      <th>Circumstances</th>\n",
       "      <th>Crash cause</th>\n",
       "      <th>survive</th>\n",
       "    </tr>\n",
       "  </thead>\n",
       "  <tbody>\n",
       "    <tr>\n",
       "      <th>0</th>\n",
       "      <td>1918-05-02</td>\n",
       "      <td>De Havilland DH.4</td>\n",
       "      <td>United States Signal Corps - USSC</td>\n",
       "      <td>Takeoff (climb)</td>\n",
       "      <td>Test</td>\n",
       "      <td>Airport (less than 10 km from airport)</td>\n",
       "      <td>Dayton-McCook Field Ohio</td>\n",
       "      <td>United States of America</td>\n",
       "      <td>North America</td>\n",
       "      <td>2</td>\n",
       "      <td>The single engine airplane departed Dayton-McC...</td>\n",
       "      <td>Technical failure</td>\n",
       "      <td>0</td>\n",
       "    </tr>\n",
       "    <tr>\n",
       "      <th>1</th>\n",
       "      <td>1918-06-08</td>\n",
       "      <td>Handley Page V/1500</td>\n",
       "      <td>Handley Page Aircraft Company Ltd</td>\n",
       "      <td>Takeoff (climb)</td>\n",
       "      <td>Test</td>\n",
       "      <td>Airport (less than 10 km from airport)</td>\n",
       "      <td>Cricklewood London Metropolis</td>\n",
       "      <td>United Kingdom</td>\n",
       "      <td>Europe</td>\n",
       "      <td>5</td>\n",
       "      <td>Assembled at Cricklewood Airfield in May 1918,...</td>\n",
       "      <td>Technical failure</td>\n",
       "      <td>1</td>\n",
       "    </tr>\n",
       "    <tr>\n",
       "      <th>2</th>\n",
       "      <td>1918-06-11</td>\n",
       "      <td>Avro 504</td>\n",
       "      <td>Royal Air Force - RAF</td>\n",
       "      <td>Flight</td>\n",
       "      <td>Training</td>\n",
       "      <td>Plain, Valley</td>\n",
       "      <td>Abukir (Abu Qir) Alexandria</td>\n",
       "      <td>Egypt</td>\n",
       "      <td>Africa</td>\n",
       "      <td>1</td>\n",
       "      <td>The single engine aircraft was completing a lo...</td>\n",
       "      <td>Unknown</td>\n",
       "      <td>1</td>\n",
       "    </tr>\n",
       "    <tr>\n",
       "      <th>3</th>\n",
       "      <td>1918-06-19</td>\n",
       "      <td>De Havilland DH.4</td>\n",
       "      <td>United States Signal Corps - USSC</td>\n",
       "      <td>Flight</td>\n",
       "      <td>Military</td>\n",
       "      <td>Airport (less than 10 km from airport)</td>\n",
       "      <td>Wright-Patterson AFB (Dayton) Ohio</td>\n",
       "      <td>United States of America</td>\n",
       "      <td>North America</td>\n",
       "      <td>1</td>\n",
       "      <td>Lt. Frank Stuart Patterson, son and nephew of ...</td>\n",
       "      <td>Technical failure</td>\n",
       "      <td>0</td>\n",
       "    </tr>\n",
       "    <tr>\n",
       "      <th>4</th>\n",
       "      <td>1918-06-24</td>\n",
       "      <td>Breguet 14</td>\n",
       "      <td>French Air Force - Armée de l'Air</td>\n",
       "      <td>Landing (descent or approach)</td>\n",
       "      <td>Military</td>\n",
       "      <td>NaN</td>\n",
       "      <td>France All France</td>\n",
       "      <td>France</td>\n",
       "      <td>Europe</td>\n",
       "      <td>0</td>\n",
       "      <td>The aircraft crashed iupon landing somewhere i...</td>\n",
       "      <td>Unknown</td>\n",
       "      <td>1</td>\n",
       "    </tr>\n",
       "  </tbody>\n",
       "</table>\n",
       "</div>"
      ],
      "text/plain": [
       "         Date             Aircraft                           Operator  \\\n",
       "0  1918-05-02    De Havilland DH.4  United States Signal Corps - USSC   \n",
       "1  1918-06-08  Handley Page V/1500  Handley Page Aircraft Company Ltd   \n",
       "2  1918-06-11             Avro 504              Royal Air Force - RAF   \n",
       "3  1918-06-19    De Havilland DH.4  United States Signal Corps - USSC   \n",
       "4  1918-06-24           Breguet 14  French Air Force - Armée de l'Air   \n",
       "\n",
       "                    Flight phase Flight type  \\\n",
       "0                Takeoff (climb)        Test   \n",
       "1                Takeoff (climb)        Test   \n",
       "2                         Flight    Training   \n",
       "3                         Flight    Military   \n",
       "4  Landing (descent or approach)    Military   \n",
       "\n",
       "                               Crash site                      Crash location  \\\n",
       "0  Airport (less than 10 km from airport)            Dayton-McCook Field Ohio   \n",
       "1  Airport (less than 10 km from airport)       Cricklewood London Metropolis   \n",
       "2                           Plain, Valley         Abukir (Abu Qir) Alexandria   \n",
       "3  Airport (less than 10 km from airport)  Wright-Patterson AFB (Dayton) Ohio   \n",
       "4                                     NaN                   France All France   \n",
       "\n",
       "                    Country         Region  Total fatalities  \\\n",
       "0  United States of America  North America                 2   \n",
       "1            United Kingdom         Europe                 5   \n",
       "2                     Egypt         Africa                 1   \n",
       "3  United States of America  North America                 1   \n",
       "4                    France         Europe                 0   \n",
       "\n",
       "                                       Circumstances        Crash cause  \\\n",
       "0  The single engine airplane departed Dayton-McC...  Technical failure   \n",
       "1  Assembled at Cricklewood Airfield in May 1918,...  Technical failure   \n",
       "2  The single engine aircraft was completing a lo...            Unknown   \n",
       "3  Lt. Frank Stuart Patterson, son and nephew of ...  Technical failure   \n",
       "4  The aircraft crashed iupon landing somewhere i...            Unknown   \n",
       "\n",
       "   survive  \n",
       "0        0  \n",
       "1        1  \n",
       "2        1  \n",
       "3        0  \n",
       "4        1  "
      ]
     },
     "execution_count": 202,
     "metadata": {},
     "output_type": "execute_result"
    }
   ],
   "source": [
    "# Convert y value into numeric\n",
    "survive_dumy = pd.get_dummies(df_crash['Survivors'])\n",
    "df_crash['survive'] = survive_dumy['Yes']\n",
    "df_crash = df_crash.drop(columns = ['Survivors'])\n",
    "df_crash.head()"
   ]
  },
  {
   "cell_type": "code",
   "execution_count": 203,
   "id": "be53902f-2dcf-440b-b22a-57fe1563eea5",
   "metadata": {},
   "outputs": [
    {
     "data": {
      "text/plain": [
       "(27136, 13)"
      ]
     },
     "execution_count": 203,
     "metadata": {},
     "output_type": "execute_result"
    }
   ],
   "source": [
    "df_crash.shape"
   ]
  },
  {
   "cell_type": "markdown",
   "id": "491a853f-f3a2-4db1-bc0a-61e7040fc437",
   "metadata": {},
   "source": [
    "### 3. EDA"
   ]
  },
  {
   "cell_type": "markdown",
   "id": "edfae8d8-46c4-4eca-9073-cf2424f0bf75",
   "metadata": {},
   "source": [
    "Checking flight time since the purpose of the study is commercial air travel."
   ]
  },
  {
   "cell_type": "code",
   "execution_count": 204,
   "id": "370d5b5c-2b42-4b14-a694-135f9b64de0f",
   "metadata": {
    "tags": []
   },
   "outputs": [
    {
     "data": {
      "text/plain": [
       "Scheduled Revenue Flight                       5633\n",
       "Military                                       4149\n",
       "Training                                       3188\n",
       "Cargo                                          2784\n",
       "Private                                        2244\n",
       "Charter/Taxi (Non Scheduled Revenue Flight)    1803\n",
       "Executive/Corporate/Business                   1030\n",
       "Survey / Patrol / Reconnaissance                875\n",
       "Bombing                                         673\n",
       "Positioning                                     669\n",
       "Test                                            546\n",
       "Postal (mail)                                   473\n",
       "Spraying (Agricultural)                         450\n",
       "Ferry                                           421\n",
       "Supply                                          406\n",
       "Ambulance                                       226\n",
       "Government                                      224\n",
       "Illegal (smuggling)                             220\n",
       "Delivery                                        177\n",
       "Demonstration                                   171\n",
       "Skydiving / Paratroopers                        166\n",
       "Fire fighting                                   144\n",
       "Humanitarian                                    130\n",
       "Aerial photography                               76\n",
       "Geographical / Geophysical / Scientific          63\n",
       "Refuelling                                       51\n",
       "Meteorological / Weather                         34\n",
       "Calibration                                      32\n",
       "Topographic                                      28\n",
       "Cinematography                                   12\n",
       "Aerobatic                                         1\n",
       "Name: Flight type, dtype: int64"
      ]
     },
     "execution_count": 204,
     "metadata": {},
     "output_type": "execute_result"
    }
   ],
   "source": [
    "df_crash['Flight type'].value_counts()"
   ]
  },
  {
   "cell_type": "code",
   "execution_count": 205,
   "id": "3c772a6e-ed43-4daf-916d-879bc84cf7d4",
   "metadata": {
    "tags": []
   },
   "outputs": [],
   "source": [
    "# Convert the date into datetime series, not sure if it's necessary at this point\n",
    "df_crash['Date'] = pd.to_datetime(df_crash['Date'])"
   ]
  },
  {
   "cell_type": "code",
   "execution_count": 206,
   "id": "cdaedaa5-b73a-4d1f-ab6e-ed1d847771af",
   "metadata": {},
   "outputs": [
    {
     "name": "stdout",
     "output_type": "stream",
     "text": [
      "<class 'pandas.core.frame.DataFrame'>\n",
      "Int64Index: 27136 entries, 0 to 28439\n",
      "Data columns (total 13 columns):\n",
      " #   Column            Non-Null Count  Dtype         \n",
      "---  ------            --------------  -----         \n",
      " 0   Date              27136 non-null  datetime64[ns]\n",
      " 1   Aircraft          27136 non-null  object        \n",
      " 2   Operator          27136 non-null  object        \n",
      " 3   Flight phase      26903 non-null  object        \n",
      " 4   Flight type       27099 non-null  object        \n",
      " 5   Crash site        27036 non-null  object        \n",
      " 6   Crash location    27124 non-null  object        \n",
      " 7   Country           27135 non-null  object        \n",
      " 8   Region            27135 non-null  object        \n",
      " 9   Total fatalities  27136 non-null  int64         \n",
      " 10  Circumstances     27121 non-null  object        \n",
      " 11  Crash cause       27136 non-null  object        \n",
      " 12  survive           27136 non-null  uint8         \n",
      "dtypes: datetime64[ns](1), int64(1), object(10), uint8(1)\n",
      "memory usage: 2.7+ MB\n"
     ]
    }
   ],
   "source": [
    "df_crash.info()"
   ]
  },
  {
   "cell_type": "code",
   "execution_count": 207,
   "id": "caddbde9-0f7d-4962-ab7d-674be41a23fe",
   "metadata": {
    "tags": []
   },
   "outputs": [],
   "source": [
    "# df_crash.set_index('Date', inplace = True)\n",
    "# df_crash.head(2)"
   ]
  },
  {
   "cell_type": "markdown",
   "id": "91bf289d-acaa-494c-ab96-cb439f37456b",
   "metadata": {},
   "source": [
    "I realized that it is not necessary to have timeseries for date"
   ]
  },
  {
   "cell_type": "code",
   "execution_count": 208,
   "id": "31f7ffbf-bb98-478e-8666-063d46b7704b",
   "metadata": {},
   "outputs": [
    {
     "data": {
      "image/png": "[encoded data removed]",
      "text/plain": [
       "<Figure size 1440x576 with 1 Axes>"
      ]
     },
     "metadata": {
      "needs_background": "light"
     },
     "output_type": "display_data"
    }
   ],
   "source": [
    "plt.figure(figsize=(20, 8))\n",
    "plt.hist(df_crash['Date'].dt.year, bins = 100, histtype = 'step');"
   ]
  },
  {
   "cell_type": "markdown",
   "id": "e2727fd7-29df-41ce-9d4a-045202552030",
   "metadata": {},
   "source": [
    "For personal interest, let's check all crashes in last 100 years. \n",
    "\n",
    "During the WWII, a lot more aircraft crashes."
   ]
  },
  {
   "cell_type": "code",
   "execution_count": 209,
   "id": "23979f3f-e578-48de-9614-f6c38a5e3b6b",
   "metadata": {
    "tags": []
   },
   "outputs": [],
   "source": [
    "# filter to only commercial flights\n",
    "df_comm_crash = df_crash[df_crash['Flight type'] == 'Scheduled Revenue Flight']"
   ]
  },
  {
   "cell_type": "code",
   "execution_count": 210,
   "id": "f8111c9b-2ea6-4433-b0cd-d2f67a548ee8",
   "metadata": {},
   "outputs": [
    {
     "data": {
      "text/plain": [
       "Date                0.000000\n",
       "Aircraft            0.000000\n",
       "Operator            0.000000\n",
       "Flight phase        0.368514\n",
       "Flight type         0.000000\n",
       "Crash site          0.084758\n",
       "Crash location      0.018426\n",
       "Country             0.000000\n",
       "Region              0.000000\n",
       "Total fatalities    0.000000\n",
       "Circumstances       0.007370\n",
       "Crash cause         0.000000\n",
       "survive             0.000000\n",
       "dtype: float64"
      ]
     },
     "execution_count": 210,
     "metadata": {},
     "output_type": "execute_result"
    }
   ],
   "source": [
    "# Missing value percentage\n",
    "df_comm_crash.isna().sum()/ df_crash.shape[0] * 100"
   ]
  },
  {
   "cell_type": "code",
   "execution_count": 212,
   "id": "e07f47d6-9ff4-400f-b831-b62648062375",
   "metadata": {},
   "outputs": [
    {
     "data": {
      "image/png": "[encoded data removed]",
      "text/plain": [
       "<Figure size 1440x576 with 1 Axes>"
      ]
     },
     "metadata": {
      "needs_background": "light"
     },
     "output_type": "display_data"
    }
   ],
   "source": [
    "plt.figure(figsize=(20, 8))\n",
    "plt.hist(df_comm_crash['Date'].dt.year, bins = 100, histtype = 'step');\n",
    "plt.title('Flight crashes over the year');"
   ]
  },
  {
   "cell_type": "code",
   "execution_count": 213,
   "id": "26e70e9e-f4c6-4748-a335-d208595f0512",
   "metadata": {},
   "outputs": [
    {
     "data": {
      "image/png": "[encoded data removed]",
      "text/plain": [
       "<Figure size 1440x576 with 1 Axes>"
      ]
     },
     "metadata": {
      "needs_background": "light"
     },
     "output_type": "display_data"
    }
   ],
   "source": [
    "plt.figure(figsize=(20, 8))\n",
    "plt.plot(df_comm_crash['Date'], df_comm_crash['Total fatalities'])\n",
    "plt.title('Number of passengers deaths over the year');"
   ]
  },
  {
   "cell_type": "code",
   "execution_count": 214,
   "id": "1b8cb25b-9467-41d7-b1c5-761abc046260",
   "metadata": {},
   "outputs": [
    {
     "data": {
      "image/png": "[encoded data removed]",
      "text/plain": [
       "<Figure size 720x720 with 1 Axes>"
      ]
     },
     "metadata": {},
     "output_type": "display_data"
    }
   ],
   "source": [
    "flight_phase = pd.DataFrame(df_comm_crash['Flight phase'].value_counts())\n",
    "\n",
    "plt.figure(figsize=(10, 10))\n",
    "plt.pie(flight_phase['Flight phase'], labels = flight_phase.index, explode = [0.2, 0, 0, 0, 0], autopct = '%1.2f%%')\n",
    "plt.title('Crashes by flight phase');"
   ]
  },
  {
   "cell_type": "code",
   "execution_count": 215,
   "id": "538112da-9c8d-4204-923d-2a4e377b66c8",
   "metadata": {
    "tags": []
   },
   "outputs": [
    {
     "data": {
      "image/png": "[encoded data removed]",
      "text/plain": [
       "<Figure size 720x720 with 1 Axes>"
      ]
     },
     "metadata": {},
     "output_type": "display_data"
    }
   ],
   "source": [
    "crash_location = pd.DataFrame(df_comm_crash['Crash site'].value_counts())\n",
    "\n",
    "plt.figure(figsize=(10, 10))\n",
    "plt.pie(crash_location['Crash site'], labels = crash_location.index, explode = [0.2, 0, 0, 0, 0, 0], autopct = '%1.2f%%')\n",
    "plt.title('Crashes by crash location');"
   ]
  },
  {
   "cell_type": "code",
   "execution_count": 216,
   "id": "3453c1b1-20ef-4020-bde3-687b62ca7cbd",
   "metadata": {},
   "outputs": [
    {
     "data": {
      "image/png": "[encoded data removed]",
      "text/plain": [
       "<Figure size 576x720 with 1 Axes>"
      ]
     },
     "metadata": {
      "needs_background": "light"
     },
     "output_type": "display_data"
    }
   ],
   "source": [
    "pd.DataFrame(df_comm_crash['Operator'].value_counts()).head(20).plot(kind = 'barh', figsize = (8, 10)).invert_yaxis()\n",
    "plt.title('Crashes by airlines');"
   ]
  },
  {
   "cell_type": "code",
   "execution_count": 217,
   "id": "087ebe43-ade9-4867-94d5-ee89189efd68",
   "metadata": {
    "tags": []
   },
   "outputs": [
    {
     "data": {
      "image/png": "[encoded data removed]",
      "text/plain": [
       "<Figure size 576x720 with 1 Axes>"
      ]
     },
     "metadata": {
      "needs_background": "light"
     },
     "output_type": "display_data"
    }
   ],
   "source": [
    "aircraft = pd.DataFrame(df_comm_crash['Aircraft'].value_counts()).head(20).plot(kind = 'barh', figsize = (8, 10)).invert_yaxis()\n",
    "plt.title('Crashes by type of aircraft');"
   ]
  },
  {
   "cell_type": "code",
   "execution_count": 218,
   "id": "a0a2f928-923a-4936-88a8-79305c8bf5c6",
   "metadata": {},
   "outputs": [
    {
     "data": {
      "image/png": "[encoded data removed]",
      "text/plain": [
       "<Figure size 576x720 with 1 Axes>"
      ]
     },
     "metadata": {
      "needs_background": "light"
     },
     "output_type": "display_data"
    }
   ],
   "source": [
    "country = pd.DataFrame(df_comm_crash['Country'].value_counts()).head(20).plot(kind = 'barh', figsize = (8, 10)).invert_yaxis()\n",
    "plt.title('Crashes by countries');"
   ]
  },
  {
   "cell_type": "code",
   "execution_count": 219,
   "id": "62af1145-88e5-4e8f-a787-4cfe0af1108c",
   "metadata": {},
   "outputs": [
    {
     "data": {
      "image/png": "[encoded data removed]",
      "text/plain": [
       "<Figure size 576x576 with 1 Axes>"
      ]
     },
     "metadata": {
      "needs_background": "light"
     },
     "output_type": "display_data"
    }
   ],
   "source": [
    "continent = pd.DataFrame(df_comm_crash['Region'].value_counts()).head(20).plot(kind = 'barh', figsize = (8, 8)).invert_yaxis()\n",
    "plt.title('Crashes by continent');"
   ]
  },
  {
   "cell_type": "markdown",
   "id": "937136cf-22f9-427e-8cb6-75cef632353e",
   "metadata": {},
   "source": [
    "### Modeling"
   ]
  },
  {
   "cell_type": "code",
   "execution_count": 112,
   "id": "18e9797a-d712-4d72-b5fe-414d9c69d64a",
   "metadata": {},
   "outputs": [
    {
     "data": {
      "text/plain": [
       "(5633, 13)"
      ]
     },
     "execution_count": 112,
     "metadata": {},
     "output_type": "execute_result"
    }
   ],
   "source": [
    "df_comm_crash.shape"
   ]
  },
  {
   "cell_type": "code",
   "execution_count": 113,
   "id": "8b7572e5-a15a-4d0b-91e9-2117cfe8d0fe",
   "metadata": {},
   "outputs": [
    {
     "data": {
      "text/plain": [
       "Date                  0\n",
       "Aircraft              0\n",
       "Operator              0\n",
       "Flight phase        100\n",
       "Flight type           0\n",
       "Crash site           23\n",
       "Crash location        5\n",
       "Country               0\n",
       "Region                0\n",
       "Total fatalities      0\n",
       "Circumstances         2\n",
       "Crash cause           0\n",
       "survive               0\n",
       "dtype: int64"
      ]
     },
     "execution_count": 113,
     "metadata": {},
     "output_type": "execute_result"
    }
   ],
   "source": [
    "df_comm_crash.isna().sum()"
   ]
  },
  {
   "cell_type": "code",
   "execution_count": 114,
   "id": "4075685c-2554-4f00-b4ad-707f64b3f373",
   "metadata": {},
   "outputs": [
    {
     "data": {
      "text/html": [
       "<div>\n",
       "<style scoped>\n",
       "    .dataframe tbody tr th:only-of-type {\n",
       "        vertical-align: middle;\n",
       "    }\n",
       "\n",
       "    .dataframe tbody tr th {\n",
       "        vertical-align: top;\n",
       "    }\n",
       "\n",
       "    .dataframe thead th {\n",
       "        text-align: right;\n",
       "    }\n",
       "</style>\n",
       "<table border=\"1\" class=\"dataframe\">\n",
       "  <thead>\n",
       "    <tr style=\"text-align: right;\">\n",
       "      <th></th>\n",
       "      <th>Date</th>\n",
       "      <th>Aircraft</th>\n",
       "      <th>Operator</th>\n",
       "      <th>Flight phase</th>\n",
       "      <th>Flight type</th>\n",
       "      <th>Crash site</th>\n",
       "      <th>Crash location</th>\n",
       "      <th>Country</th>\n",
       "      <th>Region</th>\n",
       "      <th>Total fatalities</th>\n",
       "      <th>Circumstances</th>\n",
       "      <th>Crash cause</th>\n",
       "      <th>survive</th>\n",
       "    </tr>\n",
       "  </thead>\n",
       "  <tbody>\n",
       "    <tr>\n",
       "      <th>31</th>\n",
       "      <td>1919-03-23</td>\n",
       "      <td>Unknown</td>\n",
       "      <td>Private French</td>\n",
       "      <td>Flight</td>\n",
       "      <td>Scheduled Revenue Flight</td>\n",
       "      <td>Plain, Valley</td>\n",
       "      <td>Bordeaux Gironde</td>\n",
       "      <td>France</td>\n",
       "      <td>Europe</td>\n",
       "      <td>0</td>\n",
       "      <td>In flight, the crew encountered engine problem...</td>\n",
       "      <td>Technical failure</td>\n",
       "      <td>1</td>\n",
       "    </tr>\n",
       "    <tr>\n",
       "      <th>32</th>\n",
       "      <td>1919-04-07</td>\n",
       "      <td>Unknown</td>\n",
       "      <td>Private French</td>\n",
       "      <td>Landing (descent or approach)</td>\n",
       "      <td>Scheduled Revenue Flight</td>\n",
       "      <td>Plain, Valley</td>\n",
       "      <td>France All France</td>\n",
       "      <td>France</td>\n",
       "      <td>Europe</td>\n",
       "      <td>0</td>\n",
       "      <td>Crashed in unknow circumstances somewhere in F...</td>\n",
       "      <td>Technical failure</td>\n",
       "      <td>1</td>\n",
       "    </tr>\n",
       "    <tr>\n",
       "      <th>49</th>\n",
       "      <td>1919-05-31</td>\n",
       "      <td>Blackburn R.T.1 Kangaroo</td>\n",
       "      <td>Grahame-White Aviation</td>\n",
       "      <td>Takeoff (climb)</td>\n",
       "      <td>Scheduled Revenue Flight</td>\n",
       "      <td>Airport (less than 10 km from airport)</td>\n",
       "      <td>Hendon Middlesex</td>\n",
       "      <td>United Kingdom</td>\n",
       "      <td>Europe</td>\n",
       "      <td>0</td>\n",
       "      <td>Shortly after takeoff, during initial climb, t...</td>\n",
       "      <td>Technical failure</td>\n",
       "      <td>1</td>\n",
       "    </tr>\n",
       "    <tr>\n",
       "      <th>66</th>\n",
       "      <td>1919-08-15</td>\n",
       "      <td>Armstrong Whitworth F.K.8</td>\n",
       "      <td>London %26 Provincial Aviation</td>\n",
       "      <td>Flight</td>\n",
       "      <td>Scheduled Revenue Flight</td>\n",
       "      <td>Plain, Valley</td>\n",
       "      <td>Great Yarmouth Norfolk</td>\n",
       "      <td>United Kingdom</td>\n",
       "      <td>Europe</td>\n",
       "      <td>0</td>\n",
       "      <td>The aircraft crashed in unknown circumstances ...</td>\n",
       "      <td>Unknown</td>\n",
       "      <td>1</td>\n",
       "    </tr>\n",
       "    <tr>\n",
       "      <th>82</th>\n",
       "      <td>1919-10-02</td>\n",
       "      <td>De Havilland DH.4</td>\n",
       "      <td>Aircraft Transport %26 Travel - AT%26T</td>\n",
       "      <td>Landing (descent or approach)</td>\n",
       "      <td>Scheduled Revenue Flight</td>\n",
       "      <td>Airport (less than 10 km from airport)</td>\n",
       "      <td>Newcastle Tyne and Wear</td>\n",
       "      <td>United Kingdom</td>\n",
       "      <td>Europe</td>\n",
       "      <td>1</td>\n",
       "      <td>On final approach to Newcastle, the engine los...</td>\n",
       "      <td>Technical failure</td>\n",
       "      <td>1</td>\n",
       "    </tr>\n",
       "  </tbody>\n",
       "</table>\n",
       "</div>"
      ],
      "text/plain": [
       "         Date                   Aircraft  \\\n",
       "31 1919-03-23                    Unknown   \n",
       "32 1919-04-07                    Unknown   \n",
       "49 1919-05-31   Blackburn R.T.1 Kangaroo   \n",
       "66 1919-08-15  Armstrong Whitworth F.K.8   \n",
       "82 1919-10-02          De Havilland DH.4   \n",
       "\n",
       "                                  Operator                   Flight phase  \\\n",
       "31                          Private French                         Flight   \n",
       "32                          Private French  Landing (descent or approach)   \n",
       "49                  Grahame-White Aviation                Takeoff (climb)   \n",
       "66          London %26 Provincial Aviation                         Flight   \n",
       "82  Aircraft Transport %26 Travel - AT%26T  Landing (descent or approach)   \n",
       "\n",
       "                 Flight type                              Crash site  \\\n",
       "31  Scheduled Revenue Flight                           Plain, Valley   \n",
       "32  Scheduled Revenue Flight                           Plain, Valley   \n",
       "49  Scheduled Revenue Flight  Airport (less than 10 km from airport)   \n",
       "66  Scheduled Revenue Flight                           Plain, Valley   \n",
       "82  Scheduled Revenue Flight  Airport (less than 10 km from airport)   \n",
       "\n",
       "             Crash location         Country  Region  Total fatalities  \\\n",
       "31         Bordeaux Gironde          France  Europe                 0   \n",
       "32        France All France          France  Europe                 0   \n",
       "49         Hendon Middlesex  United Kingdom  Europe                 0   \n",
       "66   Great Yarmouth Norfolk  United Kingdom  Europe                 0   \n",
       "82  Newcastle Tyne and Wear  United Kingdom  Europe                 1   \n",
       "\n",
       "                                        Circumstances        Crash cause  \\\n",
       "31  In flight, the crew encountered engine problem...  Technical failure   \n",
       "32  Crashed in unknow circumstances somewhere in F...  Technical failure   \n",
       "49  Shortly after takeoff, during initial climb, t...  Technical failure   \n",
       "66  The aircraft crashed in unknown circumstances ...            Unknown   \n",
       "82  On final approach to Newcastle, the engine los...  Technical failure   \n",
       "\n",
       "    survive  \n",
       "31        1  \n",
       "32        1  \n",
       "49        1  \n",
       "66        1  \n",
       "82        1  "
      ]
     },
     "execution_count": 114,
     "metadata": {},
     "output_type": "execute_result"
    }
   ],
   "source": [
    "df_comm_crash.head()"
   ]
  },
  {
   "cell_type": "code",
   "execution_count": 115,
   "id": "3b713323-3456-4f55-a0f4-cb61fc4b3bff",
   "metadata": {
    "tags": []
   },
   "outputs": [
    {
     "name": "stderr",
     "output_type": "stream",
     "text": [
      "/var/folders/qb/44_9hw1s49d2hp61r3y2hmwm0000gn/T/ipykernel_38299/2341942218.py:1: SettingWithCopyWarning: \n",
      "A value is trying to be set on a copy of a slice from a DataFrame.\n",
      "Try using .loc[row_indexer,col_indexer] = value instead\n",
      "\n",
      "See the caveats in the documentation: https://pandas.pydata.org/pandas-docs/stable/user_guide/indexing.html#returning-a-view-versus-a-copy\n",
      "  df_comm_crash['Time'] = df_comm_crash['Date'].dt.year\n"
     ]
    }
   ],
   "source": [
    "# Only keep the year of the crashes\n",
    "df_comm_crash['Time'] = df_comm_crash['Date'].dt.year\n",
    "# Remove unnecessary columns\n",
    "df_comm_crash = df_comm_crash.drop(columns = ['Date', 'Circumstances', 'Crash location', 'Flight type', 'Country', 'Region'])"
   ]
  },
  {
   "cell_type": "code",
   "execution_count": 116,
   "id": "1681151b-2173-4030-a044-28a37b60ef3e",
   "metadata": {},
   "outputs": [
    {
     "data": {
      "text/html": [
       "<div>\n",
       "<style scoped>\n",
       "    .dataframe tbody tr th:only-of-type {\n",
       "        vertical-align: middle;\n",
       "    }\n",
       "\n",
       "    .dataframe tbody tr th {\n",
       "        vertical-align: top;\n",
       "    }\n",
       "\n",
       "    .dataframe thead th {\n",
       "        text-align: right;\n",
       "    }\n",
       "</style>\n",
       "<table border=\"1\" class=\"dataframe\">\n",
       "  <thead>\n",
       "    <tr style=\"text-align: right;\">\n",
       "      <th></th>\n",
       "      <th>Aircraft</th>\n",
       "      <th>Operator</th>\n",
       "      <th>Flight phase</th>\n",
       "      <th>Crash site</th>\n",
       "      <th>Total fatalities</th>\n",
       "      <th>Crash cause</th>\n",
       "      <th>survive</th>\n",
       "      <th>Time</th>\n",
       "    </tr>\n",
       "  </thead>\n",
       "  <tbody>\n",
       "    <tr>\n",
       "      <th>0</th>\n",
       "      <td>Unknown</td>\n",
       "      <td>Private French</td>\n",
       "      <td>Flight</td>\n",
       "      <td>Plain, Valley</td>\n",
       "      <td>0</td>\n",
       "      <td>Technical failure</td>\n",
       "      <td>1</td>\n",
       "      <td>1919</td>\n",
       "    </tr>\n",
       "    <tr>\n",
       "      <th>1</th>\n",
       "      <td>Unknown</td>\n",
       "      <td>Private French</td>\n",
       "      <td>Landing (descent or approach)</td>\n",
       "      <td>Plain, Valley</td>\n",
       "      <td>0</td>\n",
       "      <td>Technical failure</td>\n",
       "      <td>1</td>\n",
       "      <td>1919</td>\n",
       "    </tr>\n",
       "    <tr>\n",
       "      <th>2</th>\n",
       "      <td>Blackburn R.T.1 Kangaroo</td>\n",
       "      <td>Grahame-White Aviation</td>\n",
       "      <td>Takeoff (climb)</td>\n",
       "      <td>Airport (less than 10 km from airport)</td>\n",
       "      <td>0</td>\n",
       "      <td>Technical failure</td>\n",
       "      <td>1</td>\n",
       "      <td>1919</td>\n",
       "    </tr>\n",
       "    <tr>\n",
       "      <th>3</th>\n",
       "      <td>Armstrong Whitworth F.K.8</td>\n",
       "      <td>London %26 Provincial Aviation</td>\n",
       "      <td>Flight</td>\n",
       "      <td>Plain, Valley</td>\n",
       "      <td>0</td>\n",
       "      <td>Unknown</td>\n",
       "      <td>1</td>\n",
       "      <td>1919</td>\n",
       "    </tr>\n",
       "    <tr>\n",
       "      <th>4</th>\n",
       "      <td>De Havilland DH.4</td>\n",
       "      <td>Aircraft Transport %26 Travel - AT%26T</td>\n",
       "      <td>Landing (descent or approach)</td>\n",
       "      <td>Airport (less than 10 km from airport)</td>\n",
       "      <td>1</td>\n",
       "      <td>Technical failure</td>\n",
       "      <td>1</td>\n",
       "      <td>1919</td>\n",
       "    </tr>\n",
       "  </tbody>\n",
       "</table>\n",
       "</div>"
      ],
      "text/plain": [
       "                    Aircraft                                Operator  \\\n",
       "0                    Unknown                          Private French   \n",
       "1                    Unknown                          Private French   \n",
       "2   Blackburn R.T.1 Kangaroo                  Grahame-White Aviation   \n",
       "3  Armstrong Whitworth F.K.8          London %26 Provincial Aviation   \n",
       "4          De Havilland DH.4  Aircraft Transport %26 Travel - AT%26T   \n",
       "\n",
       "                    Flight phase                              Crash site  \\\n",
       "0                         Flight                           Plain, Valley   \n",
       "1  Landing (descent or approach)                           Plain, Valley   \n",
       "2                Takeoff (climb)  Airport (less than 10 km from airport)   \n",
       "3                         Flight                           Plain, Valley   \n",
       "4  Landing (descent or approach)  Airport (less than 10 km from airport)   \n",
       "\n",
       "   Total fatalities        Crash cause  survive  Time  \n",
       "0                 0  Technical failure        1  1919  \n",
       "1                 0  Technical failure        1  1919  \n",
       "2                 0  Technical failure        1  1919  \n",
       "3                 0            Unknown        1  1919  \n",
       "4                 1  Technical failure        1  1919  "
      ]
     },
     "execution_count": 116,
     "metadata": {},
     "output_type": "execute_result"
    }
   ],
   "source": [
    "df_comm_crash = df_comm_crash.reset_index(drop = True)\n",
    "df_comm_crash.head()"
   ]
  },
  {
   "cell_type": "markdown",
   "id": "e240031f-9bcc-4d6a-bb00-f8ef3786b7cc",
   "metadata": {},
   "source": [
    "#### X and Y Split (shuffle = True)"
   ]
  },
  {
   "cell_type": "code",
   "execution_count": 117,
   "id": "c1db3bf9-24a8-43a4-ada4-4bba2bc71c42",
   "metadata": {
    "tags": []
   },
   "outputs": [],
   "source": [
    "X = df_comm_crash.drop(columns = ['survive'])\n",
    "y = df_comm_crash['survive']"
   ]
  },
  {
   "cell_type": "code",
   "execution_count": 118,
   "id": "e83bb273-809c-4865-8b4a-24ecbf53e4ba",
   "metadata": {},
   "outputs": [],
   "source": [
    "X_train, X_test, y_train, y_test = train_test_split(X, y, random_state = 42, stratify = y)"
   ]
  },
  {
   "cell_type": "code",
   "execution_count": 119,
   "id": "b319a5dd-2416-4ee0-ae31-e1d725618b0e",
   "metadata": {},
   "outputs": [
    {
     "data": {
      "text/plain": [
       "((4224, 7), (1409, 7))"
      ]
     },
     "execution_count": 119,
     "metadata": {},
     "output_type": "execute_result"
    }
   ],
   "source": [
    "X_train.shape, X_test.shape"
   ]
  },
  {
   "cell_type": "markdown",
   "id": "d4cc148e-9344-4280-9def-bd93b5de420a",
   "metadata": {},
   "source": [
    "### Baseline"
   ]
  },
  {
   "cell_type": "code",
   "execution_count": 133,
   "id": "42bbee71-49ca-4b3e-9d45-03820117ee7a",
   "metadata": {
    "tags": []
   },
   "outputs": [
    {
     "data": {
      "text/plain": [
       "1    0.705663\n",
       "0    0.294337\n",
       "Name: survive, dtype: float64"
      ]
     },
     "execution_count": 133,
     "metadata": {},
     "output_type": "execute_result"
    }
   ],
   "source": [
    "y.value_counts(normalize = True)"
   ]
  },
  {
   "cell_type": "markdown",
   "id": "e6553ee4-2746-426d-a41a-aa1a54be2ec4",
   "metadata": {},
   "source": [
    "#### Deal with Missing Value"
   ]
  },
  {
   "cell_type": "code",
   "execution_count": 120,
   "id": "fc632e5e-948f-4ec3-b0c5-f8ff70cac604",
   "metadata": {},
   "outputs": [],
   "source": [
    "si = SimpleImputer(strategy = 'most_frequent')"
   ]
  },
  {
   "cell_type": "code",
   "execution_count": 121,
   "id": "3a4b4ea1-b59e-484c-9570-65aad10efcbb",
   "metadata": {},
   "outputs": [],
   "source": [
    "si.fit(X_train)\n",
    "X_train_fill = si.transform(X_train)\n",
    "X_train_fill = pd.DataFrame(X_train_fill, columns = X_train.columns)"
   ]
  },
  {
   "cell_type": "code",
   "execution_count": 122,
   "id": "33cca5c3-89d0-4805-ac1c-6b21a5fe786e",
   "metadata": {},
   "outputs": [],
   "source": [
    "X_test_fill = si.transform(X_test)\n",
    "X_test_fill = pd.DataFrame(X_test_fill, columns = si.feature_names_in_)"
   ]
  },
  {
   "cell_type": "code",
   "execution_count": 123,
   "id": "38a2fa92-8d2a-4700-9708-f6af34dc7443",
   "metadata": {},
   "outputs": [
    {
     "data": {
      "text/plain": [
       "(0, 0)"
      ]
     },
     "execution_count": 123,
     "metadata": {},
     "output_type": "execute_result"
    }
   ],
   "source": [
    "X_train_fill.isna().sum().sum(), X_test_fill.isna().sum().sum()"
   ]
  },
  {
   "cell_type": "code",
   "execution_count": 124,
   "id": "62603ddd-4e08-41a2-98bd-1999dea2ca8f",
   "metadata": {},
   "outputs": [],
   "source": [
    "ohe = OneHotEncoder(drop = 'if_binary', handle_unknown = 'ignore', sparse = False)"
   ]
  },
  {
   "cell_type": "code",
   "execution_count": 125,
   "id": "af782dce-65c4-4f45-96e0-28a00b526883",
   "metadata": {},
   "outputs": [],
   "source": [
    "encoder = make_column_transformer(\n",
    "    (ohe, ['Aircraft', 'Operator', 'Flight phase', 'Crash site', 'Crash cause']),\n",
    "    remainder = 'passthrough',\n",
    "    verbose_feature_names_out = False\n",
    ")"
   ]
  },
  {
   "cell_type": "code",
   "execution_count": 126,
   "id": "e6e7c157-12fb-41c2-bbd5-81b262edf333",
   "metadata": {},
   "outputs": [],
   "source": [
    "X_train_enc = encoder.fit_transform(X_train_fill)\n",
    "X_train_enc = pd.DataFrame(X_train_enc, columns = encoder.get_feature_names_out())"
   ]
  },
  {
   "cell_type": "code",
   "execution_count": 127,
   "id": "87526a2b-711c-44e0-92ef-3032ebc2f233",
   "metadata": {},
   "outputs": [
    {
     "name": "stderr",
     "output_type": "stream",
     "text": [
      "/opt/anaconda3/lib/python3.9/site-packages/sklearn/preprocessing/_encoders.py:170: UserWarning: Found unknown categories in columns [0, 1] during transform. These unknown categories will be encoded as all zeros\n",
      "  warnings.warn(\n"
     ]
    }
   ],
   "source": [
    "X_test_enc = encoder.transform(X_test_fill)\n",
    "X_test_enc = pd.DataFrame(X_test_enc, columns = encoder.get_feature_names_out())"
   ]
  },
  {
   "cell_type": "code",
   "execution_count": 128,
   "id": "8c76cdef-f23f-441c-8d6c-84e7c11b9e37",
   "metadata": {},
   "outputs": [
    {
     "data": {
      "text/plain": [
       "((4224, 1943), (1409, 1943))"
      ]
     },
     "execution_count": 128,
     "metadata": {},
     "output_type": "execute_result"
    }
   ],
   "source": [
    "X_train_enc.shape, X_test_enc.shape"
   ]
  },
  {
   "cell_type": "markdown",
   "id": "ef0c5cbe-83c1-402b-a13c-52ca60c1c7bc",
   "metadata": {},
   "source": [
    "#### Logistic Regression"
   ]
  },
  {
   "cell_type": "code",
   "execution_count": 129,
   "id": "17abe545-fec2-4776-bc20-2fea97177f97",
   "metadata": {
    "tags": []
   },
   "outputs": [],
   "source": [
    "log = LogisticRegression(max_iter = 10000)"
   ]
  },
  {
   "cell_type": "code",
   "execution_count": 130,
   "id": "4ebc36cb-e58b-4ca6-9a84-148a5a6cae32",
   "metadata": {},
   "outputs": [
    {
     "data": {
      "text/plain": [
       "LogisticRegression(max_iter=10000)"
      ]
     },
     "execution_count": 130,
     "metadata": {},
     "output_type": "execute_result"
    }
   ],
   "source": [
    "log.fit(X_train_enc, y_train)"
   ]
  },
  {
   "cell_type": "code",
   "execution_count": 131,
   "id": "3c4e4775-ed95-4b65-8aa2-87c4410534d5",
   "metadata": {},
   "outputs": [
    {
     "data": {
      "text/plain": [
       "(0.8624526515151515, 0.794889992902768)"
      ]
     },
     "execution_count": 131,
     "metadata": {},
     "output_type": "execute_result"
    }
   ],
   "source": [
    "log.score(X_train_enc, y_train), log.score(X_test_enc, y_test)"
   ]
  },
  {
   "cell_type": "code",
   "execution_count": 132,
   "id": "9798ee90-ca37-4245-b584-8b8179d96e4a",
   "metadata": {},
   "outputs": [
    {
     "data": {
      "image/png": "[encoded data removed]",
      "text/plain": [
       "<Figure size 432x288 with 2 Axes>"
      ]
     },
     "metadata": {
      "needs_background": "light"
     },
     "output_type": "display_data"
    }
   ],
   "source": [
    "ConfusionMatrixDisplay.from_estimator(log, X_test_enc, y_test, cmap = 'Oranges');"
   ]
  },
  {
   "cell_type": "code",
   "execution_count": null,
   "id": "195c7f6e-e92c-4f49-b67e-86860046d34a",
   "metadata": {},
   "outputs": [],
   "source": []
  },
  {
   "cell_type": "markdown",
   "id": "2284c627-4583-4da9-87e4-56e8be50ce17",
   "metadata": {},
   "source": [
    "#### X and Y Split (shuffle = False)"
   ]
  },
  {
   "cell_type": "code",
   "execution_count": 134,
   "id": "c6b7ddeb-7e2c-4f75-b64e-e65263339b60",
   "metadata": {},
   "outputs": [],
   "source": [
    "X1 = df_comm_crash.drop(columns = ['survive'])\n",
    "y1 = df_comm_crash['survive']"
   ]
  },
  {
   "cell_type": "code",
   "execution_count": 135,
   "id": "600285e8-62e5-45bc-bb08-49a75b453913",
   "metadata": {},
   "outputs": [],
   "source": [
    "X1_train, X1_test, y1_train, y1_test = train_test_split(X1, y1, random_state = 42, shuffle = False)"
   ]
  },
  {
   "cell_type": "code",
   "execution_count": 136,
   "id": "8e01f6a1-6315-48e4-9370-9a43bfcd0ba2",
   "metadata": {},
   "outputs": [],
   "source": [
    "si = SimpleImputer(strategy = 'most_frequent')"
   ]
  },
  {
   "cell_type": "code",
   "execution_count": 137,
   "id": "dba4f420-51a2-47e6-8884-44e7bccbe42b",
   "metadata": {},
   "outputs": [],
   "source": [
    "si.fit(X1_train)\n",
    "X1_train_fill = si.transform(X1_train)\n",
    "X1_train_fill = pd.DataFrame(X1_train_fill, columns = X_train.columns)"
   ]
  },
  {
   "cell_type": "code",
   "execution_count": 138,
   "id": "48f56f46-d175-4534-81af-af92a144be3b",
   "metadata": {
    "tags": []
   },
   "outputs": [],
   "source": [
    "X1_test_fill = si.transform(X1_test)\n",
    "X1_test_fill = pd.DataFrame(X1_test_fill, columns = si.feature_names_in_)"
   ]
  },
  {
   "cell_type": "code",
   "execution_count": 139,
   "id": "dc250077-10bb-4ba8-817b-ce729a6dd218",
   "metadata": {},
   "outputs": [],
   "source": [
    "ohe = OneHotEncoder(drop = 'if_binary', handle_unknown = 'ignore', sparse = False)"
   ]
  },
  {
   "cell_type": "code",
   "execution_count": 140,
   "id": "1c36aa83-92f5-40fd-916d-29d8198bac7a",
   "metadata": {},
   "outputs": [],
   "source": [
    "encoder = make_column_transformer(\n",
    "    (ohe, ['Aircraft', 'Operator', 'Flight phase', 'Crash site', 'Crash cause']),\n",
    "    remainder = 'passthrough',\n",
    "    verbose_feature_names_out = False\n",
    ")"
   ]
  },
  {
   "cell_type": "code",
   "execution_count": 141,
   "id": "e0c0ca0d-9aca-4984-b811-18cdbbee26c4",
   "metadata": {},
   "outputs": [],
   "source": [
    "X1_train_enc = encoder.fit_transform(X1_train_fill)\n",
    "X1_train_enc = pd.DataFrame(X1_train_enc, columns = encoder.get_feature_names_out())"
   ]
  },
  {
   "cell_type": "code",
   "execution_count": 142,
   "id": "596a6f19-1549-49f6-a2a0-a176771a8fa4",
   "metadata": {},
   "outputs": [
    {
     "name": "stderr",
     "output_type": "stream",
     "text": [
      "/opt/anaconda3/lib/python3.9/site-packages/sklearn/preprocessing/_encoders.py:170: UserWarning: Found unknown categories in columns [0, 1] during transform. These unknown categories will be encoded as all zeros\n",
      "  warnings.warn(\n"
     ]
    }
   ],
   "source": [
    "X1_test_enc = encoder.transform(X1_test_fill)\n",
    "X1_test_enc = pd.DataFrame(X1_test_enc, columns = encoder.get_feature_names_out())"
   ]
  },
  {
   "cell_type": "code",
   "execution_count": 143,
   "id": "26f5dff1-15ff-4c59-908f-5c45bce722a8",
   "metadata": {},
   "outputs": [
    {
     "data": {
      "text/plain": [
       "LogisticRegression(max_iter=10000)"
      ]
     },
     "execution_count": 143,
     "metadata": {},
     "output_type": "execute_result"
    }
   ],
   "source": [
    "log = LogisticRegression(max_iter = 10000)\n",
    "log.fit(X1_train_enc, y1_train)"
   ]
  },
  {
   "cell_type": "code",
   "execution_count": 144,
   "id": "46579003-8a34-4103-88ed-34ad20ae7676",
   "metadata": {},
   "outputs": [
    {
     "data": {
      "text/plain": [
       "(0.8392518939393939, 0.8616039744499645)"
      ]
     },
     "execution_count": 144,
     "metadata": {},
     "output_type": "execute_result"
    }
   ],
   "source": [
    "log.score(X1_train_enc, y1_train), log.score(X1_test_enc, y1_test)"
   ]
  },
  {
   "cell_type": "code",
   "execution_count": 145,
   "id": "ae24b763-ea8d-4476-805c-69f18c76e47c",
   "metadata": {},
   "outputs": [
    {
     "data": {
      "image/png": "[encoded data removed]",
      "text/plain": [
       "<Figure size 432x288 with 2 Axes>"
      ]
     },
     "metadata": {
      "needs_background": "light"
     },
     "output_type": "display_data"
    }
   ],
   "source": [
    "ConfusionMatrixDisplay.from_estimator(log, X1_test_enc, y1_test, cmap = 'Oranges');"
   ]
  },
  {
   "cell_type": "markdown",
   "id": "bbf48234-c703-4c65-bbcc-b6e080a21783",
   "metadata": {},
   "source": [
    "Better accuracy when choosing split data by shuffle = False, this might because the number of crashes reduced in recent years. "
   ]
  },
  {
   "cell_type": "markdown",
   "id": "f69f2bdb-1ae4-4897-ba11-fbe360889d2a",
   "metadata": {},
   "source": [
    "#### KNN Model"
   ]
  },
  {
   "cell_type": "code",
   "execution_count": 146,
   "id": "5af5d1b3-de8e-4061-928b-6b6ab416e9ff",
   "metadata": {},
   "outputs": [],
   "source": [
    "knn = KNeighborsClassifier()"
   ]
  },
  {
   "cell_type": "code",
   "execution_count": 147,
   "id": "75715816-2857-4f9f-bdfe-ac5727b028bd",
   "metadata": {},
   "outputs": [
    {
     "data": {
      "text/plain": [
       "KNeighborsClassifier()"
      ]
     },
     "execution_count": 147,
     "metadata": {},
     "output_type": "execute_result"
    }
   ],
   "source": [
    "knn.fit(X_train_enc, y_train)"
   ]
  },
  {
   "cell_type": "code",
   "execution_count": 148,
   "id": "518742df-e7bb-484c-bc51-79b38d783134",
   "metadata": {},
   "outputs": [
    {
     "data": {
      "text/plain": [
       "(0.8761837121212122, 0.8346344925479063)"
      ]
     },
     "execution_count": 148,
     "metadata": {},
     "output_type": "execute_result"
    }
   ],
   "source": [
    "knn.score(X_train_enc, y_train), knn.score(X_test_enc, y_test)"
   ]
  },
  {
   "cell_type": "code",
   "execution_count": 149,
   "id": "e6d48e12-f5dc-4d21-aa11-b86494c89872",
   "metadata": {},
   "outputs": [
    {
     "data": {
      "image/png": "[encoded data removed]",
      "text/plain": [
       "<Figure size 432x288 with 2 Axes>"
      ]
     },
     "metadata": {
      "needs_background": "light"
     },
     "output_type": "display_data"
    }
   ],
   "source": [
    "ConfusionMatrixDisplay.from_estimator(knn, X_test_enc, y_test, cmap = 'Greens');"
   ]
  },
  {
   "cell_type": "code",
   "execution_count": null,
   "id": "fcfd0a41-ac2a-44f0-838f-2fa57ef28eac",
   "metadata": {},
   "outputs": [],
   "source": []
  },
  {
   "cell_type": "code",
   "execution_count": 150,
   "id": "fadc3267-2226-4e43-b291-6dfe622d29fe",
   "metadata": {},
   "outputs": [
    {
     "data": {
      "text/plain": [
       "KNeighborsClassifier()"
      ]
     },
     "execution_count": 150,
     "metadata": {},
     "output_type": "execute_result"
    }
   ],
   "source": [
    "knn.fit(X1_train_enc, y1_train)"
   ]
  },
  {
   "cell_type": "code",
   "execution_count": 151,
   "id": "ddeb9a94-20cf-4634-9710-da9cbde7c63f",
   "metadata": {},
   "outputs": [
    {
     "data": {
      "text/plain": [
       "(0.8813920454545454, 0.8289567068843151)"
      ]
     },
     "execution_count": 151,
     "metadata": {},
     "output_type": "execute_result"
    }
   ],
   "source": [
    "knn.score(X1_train_enc, y1_train), knn.score(X1_test_enc, y1_test)"
   ]
  },
  {
   "cell_type": "code",
   "execution_count": 152,
   "id": "c388c811-4f66-44a0-9a80-39c3b803472c",
   "metadata": {},
   "outputs": [
    {
     "data": {
      "image/png": "[encoded data removed]",
      "text/plain": [
       "<Figure size 432x288 with 2 Axes>"
      ]
     },
     "metadata": {
      "needs_background": "light"
     },
     "output_type": "display_data"
    }
   ],
   "source": [
    "ConfusionMatrixDisplay.from_estimator(knn, X1_test_enc, y1_test, cmap = 'Greens');"
   ]
  },
  {
   "cell_type": "code",
   "execution_count": null,
   "id": "cb9421f8-e367-4167-8926-7c478afe30f0",
   "metadata": {},
   "outputs": [],
   "source": []
  },
  {
   "cell_type": "markdown",
   "id": "4c7ce56f-6190-4262-a741-704847a20ef7",
   "metadata": {},
   "source": [
    "#### Random Forest"
   ]
  },
  {
   "cell_type": "code",
   "execution_count": 154,
   "id": "62e00d7a-97ae-4287-89a9-68444602613b",
   "metadata": {},
   "outputs": [],
   "source": [
    "RFC = RandomForestClassifier()"
   ]
  },
  {
   "cell_type": "code",
   "execution_count": 155,
   "id": "0862c146-3543-4b2b-96b5-f31983633d4c",
   "metadata": {},
   "outputs": [
    {
     "data": {
      "text/plain": [
       "RandomForestClassifier()"
      ]
     },
     "execution_count": 155,
     "metadata": {},
     "output_type": "execute_result"
    }
   ],
   "source": [
    "RFC.fit(X_train_enc, y_train)"
   ]
  },
  {
   "cell_type": "code",
   "execution_count": 156,
   "id": "bc8c01e1-1ba7-41b7-a077-e8377acc9bdf",
   "metadata": {},
   "outputs": [
    {
     "data": {
      "text/plain": [
       "(0.9997632575757576, 0.843860894251242)"
      ]
     },
     "execution_count": 156,
     "metadata": {},
     "output_type": "execute_result"
    }
   ],
   "source": [
    "RFC.score(X_train_enc, y_train), RFC.score(X_test_enc, y_test)"
   ]
  },
  {
   "cell_type": "code",
   "execution_count": 158,
   "id": "c68eb089-261d-412e-9785-eb1a4bda3258",
   "metadata": {},
   "outputs": [
    {
     "data": {
      "image/png": "[encoded data removed]",
      "text/plain": [
       "<Figure size 432x288 with 2 Axes>"
      ]
     },
     "metadata": {
      "needs_background": "light"
     },
     "output_type": "display_data"
    }
   ],
   "source": [
    "ConfusionMatrixDisplay.from_estimator(RFC, X_test_enc, y_test, cmap = 'Blues');"
   ]
  },
  {
   "cell_type": "code",
   "execution_count": null,
   "id": "b1f4db7e-5470-43a2-96fd-cfaec2776a6d",
   "metadata": {},
   "outputs": [],
   "source": []
  },
  {
   "cell_type": "code",
   "execution_count": 159,
   "id": "dd8625af-1568-4c9d-b46b-66dfd3255839",
   "metadata": {},
   "outputs": [
    {
     "data": {
      "text/plain": [
       "RandomForestClassifier()"
      ]
     },
     "execution_count": 159,
     "metadata": {},
     "output_type": "execute_result"
    }
   ],
   "source": [
    "RFC.fit(X1_train_enc, y1_train)"
   ]
  },
  {
   "cell_type": "code",
   "execution_count": 160,
   "id": "8efa4f53-87f3-45d8-abd2-842520d8a2ea",
   "metadata": {},
   "outputs": [
    {
     "data": {
      "text/plain": [
       "(1.0, 0.8857345635202271)"
      ]
     },
     "execution_count": 160,
     "metadata": {},
     "output_type": "execute_result"
    }
   ],
   "source": [
    "RFC.score(X1_train_enc, y1_train), RFC.score(X1_test_enc, y1_test)"
   ]
  },
  {
   "cell_type": "code",
   "execution_count": 161,
   "id": "8b80d4d3-6613-4555-9591-04abad80ed1d",
   "metadata": {},
   "outputs": [
    {
     "data": {
      "image/png": "[encoded data removed]",
      "text/plain": [
       "<Figure size 432x288 with 2 Axes>"
      ]
     },
     "metadata": {
      "needs_background": "light"
     },
     "output_type": "display_data"
    }
   ],
   "source": [
    "ConfusionMatrixDisplay.from_estimator(RFC, X1_test_enc, y1_test, cmap = 'Blues');"
   ]
  },
  {
   "cell_type": "markdown",
   "id": "9b514009-7368-4533-ba58-52ac6634409e",
   "metadata": {},
   "source": [
    "All models beat the baseline model. Random Forest had the best performance. "
   ]
  },
  {
   "cell_type": "markdown",
   "id": "cfca022a-44af-4002-b469-b5dcff548c0f",
   "metadata": {},
   "source": [
    "### Dealing with Imbalanced Class Data"
   ]
  },
  {
   "cell_type": "code",
   "execution_count": 167,
   "id": "6c4d6633-d53c-4502-88fe-d8ee918ab1d9",
   "metadata": {},
   "outputs": [],
   "source": [
    "pipe1 = make_pipeline(RandomOverSampler(), LogisticRegression(max_iter = 10000))"
   ]
  },
  {
   "cell_type": "code",
   "execution_count": 168,
   "id": "e463073a-07f6-4e00-9572-b567c9393e61",
   "metadata": {},
   "outputs": [
    {
     "data": {
      "text/plain": [
       "dict_keys(['memory', 'steps', 'verbose', 'randomoversampler', 'logisticregression', 'randomoversampler__random_state', 'randomoversampler__sampling_strategy', 'randomoversampler__shrinkage', 'logisticregression__C', 'logisticregression__class_weight', 'logisticregression__dual', 'logisticregression__fit_intercept', 'logisticregression__intercept_scaling', 'logisticregression__l1_ratio', 'logisticregression__max_iter', 'logisticregression__multi_class', 'logisticregression__n_jobs', 'logisticregression__penalty', 'logisticregression__random_state', 'logisticregression__solver', 'logisticregression__tol', 'logisticregression__verbose', 'logisticregression__warm_start'])"
      ]
     },
     "execution_count": 168,
     "metadata": {},
     "output_type": "execute_result"
    }
   ],
   "source": [
    "pipe1.get_params().keys()"
   ]
  },
  {
   "cell_type": "code",
   "execution_count": 171,
   "id": "95f895b4-ca6e-4a60-917a-5eb0a5735dc8",
   "metadata": {},
   "outputs": [],
   "source": [
    "param_grid1 = {\n",
    "    'randomoversampler__sampling_strategy': [0.25, 0.5, 0.75, 1], \n",
    "    'logisticregression__C': [0.1, 0.5, 1.0, 1.5]\n",
    "             }"
   ]
  },
  {
   "cell_type": "code",
   "execution_count": 172,
   "id": "f205809e-12b1-444a-82f8-dd46acc4e8cf",
   "metadata": {
    "tags": []
   },
   "outputs": [],
   "source": [
    "gs1 = GridSearchCV(pipe1, param_grid = param_grid1, n_jobs = -1)"
   ]
  },
  {
   "cell_type": "code",
   "execution_count": 174,
   "id": "b478a81f-6b10-4ccc-8b62-8d6452a5d764",
   "metadata": {},
   "outputs": [
    {
     "name": "stderr",
     "output_type": "stream",
     "text": [
      "/opt/anaconda3/lib/python3.9/site-packages/sklearn/model_selection/_validation.py:372: FitFailedWarning: \n",
      "20 fits failed out of a total of 80.\n",
      "The score on these train-test partitions for these parameters will be set to nan.\n",
      "If these failures are not expected, you can try to debug them by setting error_score='raise'.\n",
      "\n",
      "Below are more details about the failures:\n",
      "--------------------------------------------------------------------------------\n",
      "20 fits failed with the following error:\n",
      "Traceback (most recent call last):\n",
      "  File \"/opt/anaconda3/lib/python3.9/site-packages/sklearn/model_selection/_validation.py\", line 680, in _fit_and_score\n",
      "    estimator.fit(X_train, y_train, **fit_params)\n",
      "  File \"/opt/anaconda3/lib/python3.9/site-packages/imblearn/pipeline.py\", line 268, in fit\n",
      "    Xt, yt = self._fit(X, y, **fit_params_steps)\n",
      "  File \"/opt/anaconda3/lib/python3.9/site-packages/imblearn/pipeline.py\", line 226, in _fit\n",
      "    X, y, fitted_transformer = fit_resample_one_cached(\n",
      "  File \"/opt/anaconda3/lib/python3.9/site-packages/joblib/memory.py\", line 349, in __call__\n",
      "    return self.func(*args, **kwargs)\n",
      "  File \"/opt/anaconda3/lib/python3.9/site-packages/imblearn/pipeline.py\", line 394, in _fit_resample_one\n",
      "    X_res, y_res = sampler.fit_resample(X, y, **fit_params)\n",
      "  File \"/opt/anaconda3/lib/python3.9/site-packages/imblearn/base.py\", line 79, in fit_resample\n",
      "    self.sampling_strategy_ = check_sampling_strategy(\n",
      "  File \"/opt/anaconda3/lib/python3.9/site-packages/imblearn/utils/_validation.py\", line 534, in check_sampling_strategy\n",
      "    _sampling_strategy_float(sampling_strategy, y, sampling_type).items()\n",
      "  File \"/opt/anaconda3/lib/python3.9/site-packages/imblearn/utils/_validation.py\", line 373, in _sampling_strategy_float\n",
      "    raise ValueError(\n",
      "ValueError: The specified ratio required to remove samples from the minority class while trying to generate new samples. Please increase the ratio.\n",
      "\n",
      "  warnings.warn(some_fits_failed_message, FitFailedWarning)\n",
      "/opt/anaconda3/lib/python3.9/site-packages/sklearn/model_selection/_search.py:969: UserWarning: One or more of the test scores are non-finite: [       nan 0.8098954  0.81628593 0.80681819        nan 0.81344401\n",
      " 0.8108413  0.80610673        nan 0.8129698  0.8115508  0.80160857\n",
      "        nan 0.81107603 0.80539275 0.79497658]\n",
      "  warnings.warn(\n"
     ]
    },
    {
     "data": {
      "text/plain": [
       "GridSearchCV(estimator=Pipeline(steps=[('randomoversampler',\n",
       "                                        RandomOverSampler()),\n",
       "                                       ('logisticregression',\n",
       "                                        LogisticRegression(max_iter=10000))]),\n",
       "             n_jobs=-1,\n",
       "             param_grid={'logisticregression__C': [0.1, 0.5, 1.0, 1.5],\n",
       "                         'randomoversampler__sampling_strategy': [0.25, 0.5,\n",
       "                                                                  0.75, 1]})"
      ]
     },
     "execution_count": 174,
     "metadata": {},
     "output_type": "execute_result"
    }
   ],
   "source": [
    "gs1.fit(X_train_enc, y_train)"
   ]
  },
  {
   "cell_type": "code",
   "execution_count": 175,
   "id": "5db23881-11b9-40e4-801f-63ac0b3074e0",
   "metadata": {},
   "outputs": [
    {
     "data": {
      "text/plain": [
       "{'logisticregression__C': 0.1, 'randomoversampler__sampling_strategy': 0.75}"
      ]
     },
     "execution_count": 175,
     "metadata": {},
     "output_type": "execute_result"
    }
   ],
   "source": [
    "gs1.best_params_"
   ]
  },
  {
   "cell_type": "code",
   "execution_count": 176,
   "id": "f5a6d254-6ae5-4e65-b1b4-9a13f4782d13",
   "metadata": {},
   "outputs": [
    {
     "data": {
      "text/plain": [
       "(0.8359375, 0.8026969481902059)"
      ]
     },
     "execution_count": 176,
     "metadata": {},
     "output_type": "execute_result"
    }
   ],
   "source": [
    "gs1.score(X_train_enc, y_train), gs1.score(X_test_enc, y_test)"
   ]
  },
  {
   "cell_type": "code",
   "execution_count": 177,
   "id": "5bde1696-2c1e-4961-bc79-df9bf30d7409",
   "metadata": {},
   "outputs": [
    {
     "name": "stderr",
     "output_type": "stream",
     "text": [
      "/opt/anaconda3/lib/python3.9/site-packages/sklearn/model_selection/_validation.py:372: FitFailedWarning: \n",
      "20 fits failed out of a total of 80.\n",
      "The score on these train-test partitions for these parameters will be set to nan.\n",
      "If these failures are not expected, you can try to debug them by setting error_score='raise'.\n",
      "\n",
      "Below are more details about the failures:\n",
      "--------------------------------------------------------------------------------\n",
      "20 fits failed with the following error:\n",
      "Traceback (most recent call last):\n",
      "  File \"/opt/anaconda3/lib/python3.9/site-packages/sklearn/model_selection/_validation.py\", line 680, in _fit_and_score\n",
      "    estimator.fit(X_train, y_train, **fit_params)\n",
      "  File \"/opt/anaconda3/lib/python3.9/site-packages/imblearn/pipeline.py\", line 268, in fit\n",
      "    Xt, yt = self._fit(X, y, **fit_params_steps)\n",
      "  File \"/opt/anaconda3/lib/python3.9/site-packages/imblearn/pipeline.py\", line 226, in _fit\n",
      "    X, y, fitted_transformer = fit_resample_one_cached(\n",
      "  File \"/opt/anaconda3/lib/python3.9/site-packages/joblib/memory.py\", line 349, in __call__\n",
      "    return self.func(*args, **kwargs)\n",
      "  File \"/opt/anaconda3/lib/python3.9/site-packages/imblearn/pipeline.py\", line 394, in _fit_resample_one\n",
      "    X_res, y_res = sampler.fit_resample(X, y, **fit_params)\n",
      "  File \"/opt/anaconda3/lib/python3.9/site-packages/imblearn/base.py\", line 79, in fit_resample\n",
      "    self.sampling_strategy_ = check_sampling_strategy(\n",
      "  File \"/opt/anaconda3/lib/python3.9/site-packages/imblearn/utils/_validation.py\", line 534, in check_sampling_strategy\n",
      "    _sampling_strategy_float(sampling_strategy, y, sampling_type).items()\n",
      "  File \"/opt/anaconda3/lib/python3.9/site-packages/imblearn/utils/_validation.py\", line 373, in _sampling_strategy_float\n",
      "    raise ValueError(\n",
      "ValueError: The specified ratio required to remove samples from the minority class while trying to generate new samples. Please increase the ratio.\n",
      "\n",
      "  warnings.warn(some_fits_failed_message, FitFailedWarning)\n",
      "/opt/anaconda3/lib/python3.9/site-packages/sklearn/model_selection/_search.py:969: UserWarning: One or more of the test scores are non-finite: [       nan 0.80137609 0.80824224 0.80066827        nan 0.80184862\n",
      " 0.80421801 0.79522477        nan 0.79829833 0.80208699 0.79072717\n",
      "        nan 0.8016125  0.79474915 0.79309207]\n",
      "  warnings.warn(\n"
     ]
    },
    {
     "data": {
      "text/plain": [
       "GridSearchCV(estimator=Pipeline(steps=[('randomoversampler',\n",
       "                                        RandomOverSampler()),\n",
       "                                       ('logisticregression',\n",
       "                                        LogisticRegression(max_iter=10000))]),\n",
       "             n_jobs=-1,\n",
       "             param_grid={'logisticregression__C': [0.1, 0.5, 1.0, 1.5],\n",
       "                         'randomoversampler__sampling_strategy': [0.25, 0.5,\n",
       "                                                                  0.75, 1]})"
      ]
     },
     "execution_count": 177,
     "metadata": {},
     "output_type": "execute_result"
    }
   ],
   "source": [
    "gs1.fit(X1_train_enc, y1_train)"
   ]
  },
  {
   "cell_type": "code",
   "execution_count": 178,
   "id": "ef808b48-1e9b-4196-99ff-7e6a3fb88960",
   "metadata": {},
   "outputs": [
    {
     "data": {
      "text/plain": [
       "{'logisticregression__C': 0.1, 'randomoversampler__sampling_strategy': 0.75}"
      ]
     },
     "execution_count": 178,
     "metadata": {},
     "output_type": "execute_result"
    }
   ],
   "source": [
    "gs1.best_params_"
   ]
  },
  {
   "cell_type": "code",
   "execution_count": 180,
   "id": "048a4895-10a7-4151-b17e-c98b0e144356",
   "metadata": {},
   "outputs": [
    {
     "data": {
      "text/plain": [
       "(0.8241003787878788, 0.8601845280340668)"
      ]
     },
     "execution_count": 180,
     "metadata": {},
     "output_type": "execute_result"
    }
   ],
   "source": [
    "gs1.score(X1_train_enc, y1_train), gs1.score(X1_test_enc, y1_test)"
   ]
  },
  {
   "cell_type": "markdown",
   "id": "84efcdf2-251b-4d6f-96e2-9db72526b2f1",
   "metadata": {},
   "source": [
    "The imbalanced strategy did not help much on predicting accuracy."
   ]
  },
  {
   "cell_type": "code",
   "execution_count": null,
   "id": "98641f44-f25c-4538-88a2-6f5e98f61353",
   "metadata": {},
   "outputs": [],
   "source": []
  },
  {
   "cell_type": "code",
   "execution_count": null,
   "id": "c0edb5f3-3e24-40f1-ab18-231261ff41ef",
   "metadata": {},
   "outputs": [],
   "source": []
  },
  {
   "cell_type": "code",
   "execution_count": null,
   "id": "136c3ea6-fb64-466c-9d14-545de5ebadb7",
   "metadata": {},
   "outputs": [],
   "source": []
  },
  {
   "cell_type": "markdown",
   "id": "d1c79508-71aa-4bd0-983e-413cea43a494",
   "metadata": {},
   "source": [
    "The following model took too much time to run, so I dropped. "
   ]
  },
  {
   "cell_type": "code",
   "execution_count": 181,
   "id": "c3ef14ee-38c0-4919-86c4-c12069c29181",
   "metadata": {},
   "outputs": [],
   "source": [
    "pipe2 = make_pipeline(RandomOverSampler(), RandomForestClassifier())"
   ]
  },
  {
   "cell_type": "code",
   "execution_count": 182,
   "id": "ca3d164d-9fec-4b95-b5bc-c2a8dfd33a6b",
   "metadata": {},
   "outputs": [
    {
     "data": {
      "text/plain": [
       "dict_keys(['memory', 'steps', 'verbose', 'randomoversampler', 'randomforestclassifier', 'randomoversampler__random_state', 'randomoversampler__sampling_strategy', 'randomoversampler__shrinkage', 'randomforestclassifier__bootstrap', 'randomforestclassifier__ccp_alpha', 'randomforestclassifier__class_weight', 'randomforestclassifier__criterion', 'randomforestclassifier__max_depth', 'randomforestclassifier__max_features', 'randomforestclassifier__max_leaf_nodes', 'randomforestclassifier__max_samples', 'randomforestclassifier__min_impurity_decrease', 'randomforestclassifier__min_samples_leaf', 'randomforestclassifier__min_samples_split', 'randomforestclassifier__min_weight_fraction_leaf', 'randomforestclassifier__n_estimators', 'randomforestclassifier__n_jobs', 'randomforestclassifier__oob_score', 'randomforestclassifier__random_state', 'randomforestclassifier__verbose', 'randomforestclassifier__warm_start'])"
      ]
     },
     "execution_count": 182,
     "metadata": {},
     "output_type": "execute_result"
    }
   ],
   "source": [
    "pipe2.get_params().keys()"
   ]
  },
  {
   "cell_type": "code",
   "execution_count": 183,
   "id": "35d427aa-2687-43b4-ad69-d5bcb5f2a90e",
   "metadata": {},
   "outputs": [],
   "source": [
    "param_grid2 = {\n",
    "    'randomoversampler__sampling_strategy': [0.25, 0.5, 0.75, 1],  \n",
    "    'randomforestclassifier__n_estimators': [100, 150, 200], \n",
    "    'randomforestclassifier__max_depth': [5, 7, 10, 12, 15], \n",
    "    'randomforestclassifier__min_samples_split': [2, 3, 5, 7]\n",
    "             }"
   ]
  },
  {
   "cell_type": "code",
   "execution_count": 184,
   "id": "28f9d472-4885-489f-b15e-696b6df02fce",
   "metadata": {},
   "outputs": [],
   "source": [
    "gs2 = GridSearchCV(pipe2, param_grid = param_grid2, n_jobs = -1)"
   ]
  },
  {
   "cell_type": "code",
   "execution_count": 185,
   "id": "1660e376-f59c-4441-8ef1-77fa248d7b13",
   "metadata": {},
   "outputs": [
    {
     "name": "stderr",
     "output_type": "stream",
     "text": [
      "Process LokyProcess-9:\n",
      "Traceback (most recent call last):\n",
      "  File \"/opt/anaconda3/lib/python3.9/multiprocessing/process.py\", line 315, in _bootstrap\n",
      "    self.run()\n",
      "  File \"/opt/anaconda3/lib/python3.9/multiprocessing/process.py\", line 108, in run\n",
      "    self._target(*self._args, **self._kwargs)\n",
      "  File \"/opt/anaconda3/lib/python3.9/site-packages/joblib/externals/loky/process_executor.py\", line 446, in _process_worker\n",
      "    del call_item\n",
      "KeyboardInterrupt\n"
     ]
    },
    {
     "ename": "KeyboardInterrupt",
     "evalue": "",
     "output_type": "error",
     "traceback": [
      "\u001b[0;31m---------------------------------------------------------------------------\u001b[0m",
      "\u001b[0;31mKeyboardInterrupt\u001b[0m                         Traceback (most recent call last)",
      "\u001b[0;32m/var/folders/qb/44_9hw1s49d2hp61r3y2hmwm0000gn/T/ipykernel_38299/3118375514.py\u001b[0m in \u001b[0;36m<module>\u001b[0;34m\u001b[0m\n\u001b[0;32m----> 1\u001b[0;31m \u001b[0mgs2\u001b[0m\u001b[0;34m.\u001b[0m\u001b[0mfit\u001b[0m\u001b[0;34m(\u001b[0m\u001b[0mX_train_enc\u001b[0m\u001b[0;34m,\u001b[0m \u001b[0my_train\u001b[0m\u001b[0;34m)\u001b[0m\u001b[0;34m\u001b[0m\u001b[0;34m\u001b[0m\u001b[0m\n\u001b[0m",
      "\u001b[0;32m/opt/anaconda3/lib/python3.9/site-packages/sklearn/model_selection/_search.py\u001b[0m in \u001b[0;36mfit\u001b[0;34m(self, X, y, groups, **fit_params)\u001b[0m\n\u001b[1;32m    889\u001b[0m                 \u001b[0;32mreturn\u001b[0m \u001b[0mresults\u001b[0m\u001b[0;34m\u001b[0m\u001b[0;34m\u001b[0m\u001b[0m\n\u001b[1;32m    890\u001b[0m \u001b[0;34m\u001b[0m\u001b[0m\n\u001b[0;32m--> 891\u001b[0;31m             \u001b[0mself\u001b[0m\u001b[0;34m.\u001b[0m\u001b[0m_run_search\u001b[0m\u001b[0;34m(\u001b[0m\u001b[0mevaluate_candidates\u001b[0m\u001b[0;34m)\u001b[0m\u001b[0;34m\u001b[0m\u001b[0;34m\u001b[0m\u001b[0m\n\u001b[0m\u001b[1;32m    892\u001b[0m \u001b[0;34m\u001b[0m\u001b[0m\n\u001b[1;32m    893\u001b[0m             \u001b[0;31m# multimetric is determined here because in the case of a callable\u001b[0m\u001b[0;34m\u001b[0m\u001b[0;34m\u001b[0m\u001b[0m\n",
      "\u001b[0;32m/opt/anaconda3/lib/python3.9/site-packages/sklearn/model_selection/_search.py\u001b[0m in \u001b[0;36m_run_search\u001b[0;34m(self, evaluate_candidates)\u001b[0m\n\u001b[1;32m   1390\u001b[0m     \u001b[0;32mdef\u001b[0m \u001b[0m_run_search\u001b[0m\u001b[0;34m(\u001b[0m\u001b[0mself\u001b[0m\u001b[0;34m,\u001b[0m \u001b[0mevaluate_candidates\u001b[0m\u001b[0;34m)\u001b[0m\u001b[0;34m:\u001b[0m\u001b[0;34m\u001b[0m\u001b[0;34m\u001b[0m\u001b[0m\n\u001b[1;32m   1391\u001b[0m         \u001b[0;34m\"\"\"Search all candidates in param_grid\"\"\"\u001b[0m\u001b[0;34m\u001b[0m\u001b[0;34m\u001b[0m\u001b[0m\n\u001b[0;32m-> 1392\u001b[0;31m         \u001b[0mevaluate_candidates\u001b[0m\u001b[0;34m(\u001b[0m\u001b[0mParameterGrid\u001b[0m\u001b[0;34m(\u001b[0m\u001b[0mself\u001b[0m\u001b[0;34m.\u001b[0m\u001b[0mparam_grid\u001b[0m\u001b[0;34m)\u001b[0m\u001b[0;34m)\u001b[0m\u001b[0;34m\u001b[0m\u001b[0;34m\u001b[0m\u001b[0m\n\u001b[0m\u001b[1;32m   1393\u001b[0m \u001b[0;34m\u001b[0m\u001b[0m\n\u001b[1;32m   1394\u001b[0m \u001b[0;34m\u001b[0m\u001b[0m\n",
      "\u001b[0;32m/opt/anaconda3/lib/python3.9/site-packages/sklearn/model_selection/_search.py\u001b[0m in \u001b[0;36mevaluate_candidates\u001b[0;34m(candidate_params, cv, more_results)\u001b[0m\n\u001b[1;32m    836\u001b[0m                     )\n\u001b[1;32m    837\u001b[0m \u001b[0;34m\u001b[0m\u001b[0m\n\u001b[0;32m--> 838\u001b[0;31m                 out = parallel(\n\u001b[0m\u001b[1;32m    839\u001b[0m                     delayed(_fit_and_score)(\n\u001b[1;32m    840\u001b[0m                         \u001b[0mclone\u001b[0m\u001b[0;34m(\u001b[0m\u001b[0mbase_estimator\u001b[0m\u001b[0;34m)\u001b[0m\u001b[0;34m,\u001b[0m\u001b[0;34m\u001b[0m\u001b[0;34m\u001b[0m\u001b[0m\n",
      "\u001b[0;32m/opt/anaconda3/lib/python3.9/site-packages/joblib/parallel.py\u001b[0m in \u001b[0;36m__call__\u001b[0;34m(self, iterable)\u001b[0m\n\u001b[1;32m   1054\u001b[0m \u001b[0;34m\u001b[0m\u001b[0m\n\u001b[1;32m   1055\u001b[0m             \u001b[0;32mwith\u001b[0m \u001b[0mself\u001b[0m\u001b[0;34m.\u001b[0m\u001b[0m_backend\u001b[0m\u001b[0;34m.\u001b[0m\u001b[0mretrieval_context\u001b[0m\u001b[0;34m(\u001b[0m\u001b[0;34m)\u001b[0m\u001b[0;34m:\u001b[0m\u001b[0;34m\u001b[0m\u001b[0;34m\u001b[0m\u001b[0m\n\u001b[0;32m-> 1056\u001b[0;31m                 \u001b[0mself\u001b[0m\u001b[0;34m.\u001b[0m\u001b[0mretrieve\u001b[0m\u001b[0;34m(\u001b[0m\u001b[0;34m)\u001b[0m\u001b[0;34m\u001b[0m\u001b[0;34m\u001b[0m\u001b[0m\n\u001b[0m\u001b[1;32m   1057\u001b[0m             \u001b[0;31m# Make sure that we get a last message telling us we are done\u001b[0m\u001b[0;34m\u001b[0m\u001b[0;34m\u001b[0m\u001b[0m\n\u001b[1;32m   1058\u001b[0m             \u001b[0melapsed_time\u001b[0m \u001b[0;34m=\u001b[0m \u001b[0mtime\u001b[0m\u001b[0;34m.\u001b[0m\u001b[0mtime\u001b[0m\u001b[0;34m(\u001b[0m\u001b[0;34m)\u001b[0m \u001b[0;34m-\u001b[0m \u001b[0mself\u001b[0m\u001b[0;34m.\u001b[0m\u001b[0m_start_time\u001b[0m\u001b[0;34m\u001b[0m\u001b[0;34m\u001b[0m\u001b[0m\n",
      "\u001b[0;32m/opt/anaconda3/lib/python3.9/site-packages/joblib/parallel.py\u001b[0m in \u001b[0;36mretrieve\u001b[0;34m(self)\u001b[0m\n\u001b[1;32m    933\u001b[0m             \u001b[0;32mtry\u001b[0m\u001b[0;34m:\u001b[0m\u001b[0;34m\u001b[0m\u001b[0;34m\u001b[0m\u001b[0m\n\u001b[1;32m    934\u001b[0m                 \u001b[0;32mif\u001b[0m \u001b[0mgetattr\u001b[0m\u001b[0;34m(\u001b[0m\u001b[0mself\u001b[0m\u001b[0;34m.\u001b[0m\u001b[0m_backend\u001b[0m\u001b[0;34m,\u001b[0m \u001b[0;34m'supports_timeout'\u001b[0m\u001b[0;34m,\u001b[0m \u001b[0;32mFalse\u001b[0m\u001b[0;34m)\u001b[0m\u001b[0;34m:\u001b[0m\u001b[0;34m\u001b[0m\u001b[0;34m\u001b[0m\u001b[0m\n\u001b[0;32m--> 935\u001b[0;31m                     \u001b[0mself\u001b[0m\u001b[0;34m.\u001b[0m\u001b[0m_output\u001b[0m\u001b[0;34m.\u001b[0m\u001b[0mextend\u001b[0m\u001b[0;34m(\u001b[0m\u001b[0mjob\u001b[0m\u001b[0;34m.\u001b[0m\u001b[0mget\u001b[0m\u001b[0;34m(\u001b[0m\u001b[0mtimeout\u001b[0m\u001b[0;34m=\u001b[0m\u001b[0mself\u001b[0m\u001b[0;34m.\u001b[0m\u001b[0mtimeout\u001b[0m\u001b[0;34m)\u001b[0m\u001b[0;34m)\u001b[0m\u001b[0;34m\u001b[0m\u001b[0;34m\u001b[0m\u001b[0m\n\u001b[0m\u001b[1;32m    936\u001b[0m                 \u001b[0;32melse\u001b[0m\u001b[0;34m:\u001b[0m\u001b[0;34m\u001b[0m\u001b[0;34m\u001b[0m\u001b[0m\n\u001b[1;32m    937\u001b[0m                     \u001b[0mself\u001b[0m\u001b[0;34m.\u001b[0m\u001b[0m_output\u001b[0m\u001b[0;34m.\u001b[0m\u001b[0mextend\u001b[0m\u001b[0;34m(\u001b[0m\u001b[0mjob\u001b[0m\u001b[0;34m.\u001b[0m\u001b[0mget\u001b[0m\u001b[0;34m(\u001b[0m\u001b[0;34m)\u001b[0m\u001b[0;34m)\u001b[0m\u001b[0;34m\u001b[0m\u001b[0;34m\u001b[0m\u001b[0m\n",
      "\u001b[0;32m/opt/anaconda3/lib/python3.9/site-packages/joblib/_parallel_backends.py\u001b[0m in \u001b[0;36mwrap_future_result\u001b[0;34m(future, timeout)\u001b[0m\n\u001b[1;32m    540\u001b[0m         AsyncResults.get from multiprocessing.\"\"\"\n\u001b[1;32m    541\u001b[0m         \u001b[0;32mtry\u001b[0m\u001b[0;34m:\u001b[0m\u001b[0;34m\u001b[0m\u001b[0;34m\u001b[0m\u001b[0m\n\u001b[0;32m--> 542\u001b[0;31m             \u001b[0;32mreturn\u001b[0m \u001b[0mfuture\u001b[0m\u001b[0;34m.\u001b[0m\u001b[0mresult\u001b[0m\u001b[0;34m(\u001b[0m\u001b[0mtimeout\u001b[0m\u001b[0;34m=\u001b[0m\u001b[0mtimeout\u001b[0m\u001b[0;34m)\u001b[0m\u001b[0;34m\u001b[0m\u001b[0;34m\u001b[0m\u001b[0m\n\u001b[0m\u001b[1;32m    543\u001b[0m         \u001b[0;32mexcept\u001b[0m \u001b[0mCfTimeoutError\u001b[0m \u001b[0;32mas\u001b[0m \u001b[0me\u001b[0m\u001b[0;34m:\u001b[0m\u001b[0;34m\u001b[0m\u001b[0;34m\u001b[0m\u001b[0m\n\u001b[1;32m    544\u001b[0m             \u001b[0;32mraise\u001b[0m \u001b[0mTimeoutError\u001b[0m \u001b[0;32mfrom\u001b[0m \u001b[0me\u001b[0m\u001b[0;34m\u001b[0m\u001b[0;34m\u001b[0m\u001b[0m\n",
      "\u001b[0;32m/opt/anaconda3/lib/python3.9/concurrent/futures/_base.py\u001b[0m in \u001b[0;36mresult\u001b[0;34m(self, timeout)\u001b[0m\n\u001b[1;32m    438\u001b[0m                     \u001b[0;32mreturn\u001b[0m \u001b[0mself\u001b[0m\u001b[0;34m.\u001b[0m\u001b[0m__get_result\u001b[0m\u001b[0;34m(\u001b[0m\u001b[0;34m)\u001b[0m\u001b[0;34m\u001b[0m\u001b[0;34m\u001b[0m\u001b[0m\n\u001b[1;32m    439\u001b[0m \u001b[0;34m\u001b[0m\u001b[0m\n\u001b[0;32m--> 440\u001b[0;31m                 \u001b[0mself\u001b[0m\u001b[0;34m.\u001b[0m\u001b[0m_condition\u001b[0m\u001b[0;34m.\u001b[0m\u001b[0mwait\u001b[0m\u001b[0;34m(\u001b[0m\u001b[0mtimeout\u001b[0m\u001b[0;34m)\u001b[0m\u001b[0;34m\u001b[0m\u001b[0;34m\u001b[0m\u001b[0m\n\u001b[0m\u001b[1;32m    441\u001b[0m \u001b[0;34m\u001b[0m\u001b[0m\n\u001b[1;32m    442\u001b[0m                 \u001b[0;32mif\u001b[0m \u001b[0mself\u001b[0m\u001b[0;34m.\u001b[0m\u001b[0m_state\u001b[0m \u001b[0;32min\u001b[0m \u001b[0;34m[\u001b[0m\u001b[0mCANCELLED\u001b[0m\u001b[0;34m,\u001b[0m \u001b[0mCANCELLED_AND_NOTIFIED\u001b[0m\u001b[0;34m]\u001b[0m\u001b[0;34m:\u001b[0m\u001b[0;34m\u001b[0m\u001b[0;34m\u001b[0m\u001b[0m\n",
      "\u001b[0;32m/opt/anaconda3/lib/python3.9/threading.py\u001b[0m in \u001b[0;36mwait\u001b[0;34m(self, timeout)\u001b[0m\n\u001b[1;32m    310\u001b[0m         \u001b[0;32mtry\u001b[0m\u001b[0;34m:\u001b[0m    \u001b[0;31m# restore state no matter what (e.g., KeyboardInterrupt)\u001b[0m\u001b[0;34m\u001b[0m\u001b[0;34m\u001b[0m\u001b[0m\n\u001b[1;32m    311\u001b[0m             \u001b[0;32mif\u001b[0m \u001b[0mtimeout\u001b[0m \u001b[0;32mis\u001b[0m \u001b[0;32mNone\u001b[0m\u001b[0;34m:\u001b[0m\u001b[0;34m\u001b[0m\u001b[0;34m\u001b[0m\u001b[0m\n\u001b[0;32m--> 312\u001b[0;31m                 \u001b[0mwaiter\u001b[0m\u001b[0;34m.\u001b[0m\u001b[0macquire\u001b[0m\u001b[0;34m(\u001b[0m\u001b[0;34m)\u001b[0m\u001b[0;34m\u001b[0m\u001b[0;34m\u001b[0m\u001b[0m\n\u001b[0m\u001b[1;32m    313\u001b[0m                 \u001b[0mgotit\u001b[0m \u001b[0;34m=\u001b[0m \u001b[0;32mTrue\u001b[0m\u001b[0;34m\u001b[0m\u001b[0;34m\u001b[0m\u001b[0m\n\u001b[1;32m    314\u001b[0m             \u001b[0;32melse\u001b[0m\u001b[0;34m:\u001b[0m\u001b[0;34m\u001b[0m\u001b[0;34m\u001b[0m\u001b[0m\n",
      "\u001b[0;31mKeyboardInterrupt\u001b[0m: "
     ]
    }
   ],
   "source": [
    "gs2.fit(X_train_enc, y_train)"
   ]
  },
  {
   "cell_type": "code",
   "execution_count": null,
   "id": "f5974b0d-ea5f-4303-b7f9-adf2aa128646",
   "metadata": {
    "tags": []
   },
   "outputs": [],
   "source": [
    "gs2.best_params_"
   ]
  },
  {
   "cell_type": "code",
   "execution_count": null,
   "id": "c4319f6c-3def-4cfa-9afa-bb83c84a1328",
   "metadata": {},
   "outputs": [],
   "source": [
    "gs1.score(X1_train_enc, y1_train), gs1.score(X1_test_enc, y1_test)"
   ]
  },
  {
   "cell_type": "code",
   "execution_count": null,
   "id": "87ba0969-7fd1-4d1a-80b9-7165f251a3f7",
   "metadata": {},
   "outputs": [],
   "source": []
  },
  {
   "cell_type": "code",
   "execution_count": null,
   "id": "68bb24ac-1664-406f-a9d5-adec1d3e5c42",
   "metadata": {},
   "outputs": [],
   "source": []
  },
  {
   "cell_type": "code",
   "execution_count": null,
   "id": "b2a9f48f-1e27-42b0-a184-db2e58eedd58",
   "metadata": {},
   "outputs": [],
   "source": []
  },
  {
   "cell_type": "code",
   "execution_count": null,
   "id": "bdfc0166-eb1c-4d2f-a937-26188b4ae643",
   "metadata": {},
   "outputs": [],
   "source": []
  },
  {
   "cell_type": "code",
   "execution_count": null,
   "id": "efa161a9-22fd-4cba-a8dc-a6881386e91b",
   "metadata": {},
   "outputs": [],
   "source": []
  },
  {
   "cell_type": "code",
   "execution_count": null,
   "id": "c4bc58ac-dbd2-4070-be35-e57403ac9e68",
   "metadata": {},
   "outputs": [],
   "source": []
  },
  {
   "cell_type": "code",
   "execution_count": null,
   "id": "aa7aacec-cbb6-4ca4-a4e8-d9371b1b896e",
   "metadata": {},
   "outputs": [],
   "source": []
  },
  {
   "cell_type": "code",
   "execution_count": null,
   "id": "faae5ed1-9d78-4d0b-a0bb-c5c0d6c85b5f",
   "metadata": {},
   "outputs": [],
   "source": []
  },
  {
   "cell_type": "code",
   "execution_count": null,
   "id": "f494112d-6a47-4117-a7a1-7505bf4377ae",
   "metadata": {},
   "outputs": [],
   "source": []
  }
 ],
 "metadata": {
  "kernelspec": {
   "display_name": "Python 3 (ipykernel)",
   "language": "python",
   "name": "python3"
  },
  "language_info": {
   "codemirror_mode": {
    "name": "ipython",
    "version": 3
   },
   "file_extension": ".py",
   "mimetype": "text/x-python",
   "name": "python",
   "nbconvert_exporter": "python",
   "pygments_lexer": "ipython3",
   "version": "3.9.7"
  }
 },
 "nbformat": 4,
 "nbformat_minor": 5
}
